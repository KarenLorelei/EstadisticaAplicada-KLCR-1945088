{
 "cells": [
  {
   "cell_type": "markdown",
   "id": "108574bf-4936-4d3e-a1c8-282e0e05b374",
   "metadata": {},
   "source": [
    "# Estadística Aplicada Grupo 043\n",
    "## Karen Lorelei Cerda Roiz \n",
    "## Bianca Elizabeth Alaniz Sandoval"
   ]
  },
  {
   "cell_type": "code",
   "execution_count": 5,
   "id": "fc5c5393-09e4-4423-9fa3-9e9b263e7ad0",
   "metadata": {},
   "outputs": [
    {
     "name": "stdout",
     "output_type": "stream",
     "text": [
      "Requirement already satisfied: yfinance in c:\\users\\lenovo\\anaconda3\\lib\\site-packages (0.2.7)\n",
      "Requirement already satisfied: beautifulsoup4>=4.11.1 in c:\\users\\lenovo\\anaconda3\\lib\\site-packages (from yfinance) (4.11.1)\n",
      "Requirement already satisfied: frozendict>=2.3.4 in c:\\users\\lenovo\\anaconda3\\lib\\site-packages (from yfinance) (2.3.4)\n",
      "Requirement already satisfied: lxml>=4.9.1 in c:\\users\\lenovo\\anaconda3\\lib\\site-packages (from yfinance) (4.9.2)\n",
      "Requirement already satisfied: appdirs>=1.4.4 in c:\\users\\lenovo\\anaconda3\\lib\\site-packages (from yfinance) (1.4.4)\n",
      "Requirement already satisfied: requests>=2.26 in c:\\users\\lenovo\\anaconda3\\lib\\site-packages (from yfinance) (2.27.1)\n",
      "Requirement already satisfied: pytz>=2022.5 in c:\\users\\lenovo\\anaconda3\\lib\\site-packages (from yfinance) (2022.7.1)\n",
      "Requirement already satisfied: cryptography>=3.3.2 in c:\\users\\lenovo\\anaconda3\\lib\\site-packages (from yfinance) (3.4.8)\n",
      "Requirement already satisfied: html5lib>=1.1 in c:\\users\\lenovo\\anaconda3\\lib\\site-packages (from yfinance) (1.1)\n",
      "Requirement already satisfied: numpy>=1.16.5 in c:\\users\\lenovo\\anaconda3\\lib\\site-packages (from yfinance) (1.21.5)\n",
      "Requirement already satisfied: multitasking>=0.0.7 in c:\\users\\lenovo\\anaconda3\\lib\\site-packages (from yfinance) (0.0.11)\n",
      "Requirement already satisfied: pandas>=1.3.0 in c:\\users\\lenovo\\anaconda3\\lib\\site-packages (from yfinance) (1.4.2)\n",
      "Requirement already satisfied: soupsieve>1.2 in c:\\users\\lenovo\\anaconda3\\lib\\site-packages (from beautifulsoup4>=4.11.1->yfinance) (2.3.1)\n",
      "Requirement already satisfied: cffi>=1.12 in c:\\users\\lenovo\\anaconda3\\lib\\site-packages (from cryptography>=3.3.2->yfinance) (1.15.0)\n",
      "Requirement already satisfied: pycparser in c:\\users\\lenovo\\anaconda3\\lib\\site-packages (from cffi>=1.12->cryptography>=3.3.2->yfinance) (2.21)\n",
      "Requirement already satisfied: six>=1.9 in c:\\users\\lenovo\\anaconda3\\lib\\site-packages (from html5lib>=1.1->yfinance) (1.16.0)\n",
      "Requirement already satisfied: webencodings in c:\\users\\lenovo\\anaconda3\\lib\\site-packages (from html5lib>=1.1->yfinance) (0.5.1)\n",
      "Requirement already satisfied: python-dateutil>=2.8.1 in c:\\users\\lenovo\\anaconda3\\lib\\site-packages (from pandas>=1.3.0->yfinance) (2.8.2)\n",
      "Requirement already satisfied: certifi>=2017.4.17 in c:\\users\\lenovo\\anaconda3\\lib\\site-packages (from requests>=2.26->yfinance) (2021.10.8)\n",
      "Requirement already satisfied: idna<4,>=2.5 in c:\\users\\lenovo\\anaconda3\\lib\\site-packages (from requests>=2.26->yfinance) (3.3)\n",
      "Requirement already satisfied: charset-normalizer~=2.0.0 in c:\\users\\lenovo\\anaconda3\\lib\\site-packages (from requests>=2.26->yfinance) (2.0.4)\n",
      "Requirement already satisfied: urllib3<1.27,>=1.21.1 in c:\\users\\lenovo\\anaconda3\\lib\\site-packages (from requests>=2.26->yfinance) (1.26.9)\n",
      "Note: you may need to restart the kernel to use updated packages.\n"
     ]
    }
   ],
   "source": [
    "pip install yfinance"
   ]
  },
  {
   "cell_type": "code",
   "execution_count": 10,
   "id": "06489224-015c-4672-959c-36ddf2b24203",
   "metadata": {},
   "outputs": [],
   "source": [
    "import yfinance"
   ]
  },
  {
   "cell_type": "code",
   "execution_count": 11,
   "id": "6f024a60-f17b-4c43-8708-849e05aac9d5",
   "metadata": {},
   "outputs": [],
   "source": [
    "import yfinance as yf"
   ]
  },
  {
   "cell_type": "code",
   "execution_count": 13,
   "id": "16ba015a-2f6a-42c1-966b-d4903fa6a74a",
   "metadata": {},
   "outputs": [],
   "source": [
    "import numpy as np"
   ]
  },
  {
   "cell_type": "code",
   "execution_count": 14,
   "id": "7185ce7c-b2ca-437a-a427-2ab4f8100d57",
   "metadata": {},
   "outputs": [],
   "source": [
    "edades = [12,18,25,32,40]"
   ]
  },
  {
   "cell_type": "code",
   "execution_count": 15,
   "id": "86262896-cc43-4937-a11e-60423f4181f4",
   "metadata": {},
   "outputs": [
    {
     "data": {
      "text/plain": [
       "list"
      ]
     },
     "execution_count": 15,
     "metadata": {},
     "output_type": "execute_result"
    }
   ],
   "source": [
    "type(edades)"
   ]
  },
  {
   "cell_type": "code",
   "execution_count": 33,
   "id": "15b479da-30e1-4aef-80c5-4bd385720272",
   "metadata": {},
   "outputs": [],
   "source": [
    "#Convertir lista a arreglo de numpy\n",
    "edades=np.array(edades)"
   ]
  },
  {
   "cell_type": "code",
   "execution_count": 18,
   "id": "6f9fd89a-6eaf-409c-a4a6-7762c319691f",
   "metadata": {},
   "outputs": [
    {
     "data": {
      "text/plain": [
       "numpy.ndarray"
      ]
     },
     "execution_count": 18,
     "metadata": {},
     "output_type": "execute_result"
    }
   ],
   "source": [
    "type(edades)"
   ]
  },
  {
   "cell_type": "code",
   "execution_count": 32,
   "id": "3568cb29-e9a1-4a69-b728-e5c268a002de",
   "metadata": {},
   "outputs": [
    {
     "data": {
      "text/plain": [
       "25.4"
      ]
     },
     "execution_count": 32,
     "metadata": {},
     "output_type": "execute_result"
    }
   ],
   "source": [
    "#promedio de todos los elementos\n",
    "np.mean(edades)"
   ]
  },
  {
   "cell_type": "code",
   "execution_count": 31,
   "id": "99cea909-fe78-4a3c-9798-dc6c88bfd16c",
   "metadata": {},
   "outputs": [
    {
     "data": {
      "text/plain": [
       "6912000"
      ]
     },
     "execution_count": 31,
     "metadata": {},
     "output_type": "execute_result"
    }
   ],
   "source": [
    "#producto de todos los elementos\n",
    "np.prod(edades)"
   ]
  },
  {
   "cell_type": "code",
   "execution_count": 30,
   "id": "f540f26f-38bb-4d27-9e44-acf389b7a3b7",
   "metadata": {},
   "outputs": [
    {
     "data": {
      "text/plain": [
       "98.24000000000001"
      ]
     },
     "execution_count": 30,
     "metadata": {},
     "output_type": "execute_result"
    }
   ],
   "source": [
    "#varianza poblacional\n",
    "np.var(edades)"
   ]
  },
  {
   "cell_type": "code",
   "execution_count": 28,
   "id": "57063d2e-739f-40f0-b4ac-9c36cbfa6fab",
   "metadata": {},
   "outputs": [
    {
     "data": {
      "text/plain": [
       "122.80000000000001"
      ]
     },
     "execution_count": 28,
     "metadata": {},
     "output_type": "execute_result"
    }
   ],
   "source": [
    "#varianza muestral\n",
    "np.var(edades, ddof=1)"
   ]
  },
  {
   "cell_type": "code",
   "execution_count": 34,
   "id": "89820a17-e0cf-4a7c-92e4-64ee072135ee",
   "metadata": {},
   "outputs": [
    {
     "data": {
      "text/plain": [
       "9.911609354691095"
      ]
     },
     "execution_count": 34,
     "metadata": {},
     "output_type": "execute_result"
    }
   ],
   "source": [
    "#desviación estandar poblacional\n",
    "np.std(edades)"
   ]
  },
  {
   "cell_type": "code",
   "execution_count": 35,
   "id": "def2d6e9-79fa-4a6d-a6dd-f7be63b33a6e",
   "metadata": {},
   "outputs": [
    {
     "data": {
      "text/plain": [
       "11.081516141756055"
      ]
     },
     "execution_count": 35,
     "metadata": {},
     "output_type": "execute_result"
    }
   ],
   "source": [
    "#desviación estandar muestral\n",
    "np.std(edades, ddof=1)"
   ]
  },
  {
   "cell_type": "code",
   "execution_count": 36,
   "id": "b59beb9c-ebe5-4d12-9117-eaf01b9303b4",
   "metadata": {},
   "outputs": [
    {
     "data": {
      "text/plain": [
       "array([0, 1, 2, 3, 4, 5, 6, 7, 8])"
      ]
     },
     "execution_count": 36,
     "metadata": {},
     "output_type": "execute_result"
    }
   ],
   "source": [
    "#generar un vector con 9 elementos\n",
    "np.arange(9)"
   ]
  },
  {
   "cell_type": "code",
   "execution_count": 38,
   "id": "1edfa13c-d9d0-4aed-936c-e4108ae77d16",
   "metadata": {},
   "outputs": [
    {
     "data": {
      "text/plain": [
       "array([1, 2, 3, 4, 5, 6, 7, 8])"
      ]
     },
     "execution_count": 38,
     "metadata": {},
     "output_type": "execute_result"
    }
   ],
   "source": [
    "#vector que empiece en 1 y termine en 9-1\n",
    "np.arange(1,9)"
   ]
  },
  {
   "cell_type": "code",
   "execution_count": 40,
   "id": "41b657cd-6a3e-43f7-b276-d17c376e465a",
   "metadata": {},
   "outputs": [
    {
     "data": {
      "text/plain": [
       "array([ 1, 11, 21, 31, 41, 51, 61, 71, 81, 91])"
      ]
     },
     "execution_count": 40,
     "metadata": {},
     "output_type": "execute_result"
    }
   ],
   "source": [
    "#vector que empiece en 1 y termine en 9-1, y que vaya de 10 en 10\n",
    "np.arange(1,100,10)"
   ]
  },
  {
   "cell_type": "code",
   "execution_count": 46,
   "id": "3ba09b72-ee1c-43a6-a395-f486a81eddd8",
   "metadata": {},
   "outputs": [
    {
     "data": {
      "text/plain": [
       "array([0., 0., 0., 0., 0., 0., 0., 0., 0., 0.])"
      ]
     },
     "execution_count": 46,
     "metadata": {},
     "output_type": "execute_result"
    }
   ],
   "source": [
    "#crear vector de 10 ceros\n",
    "np.zeros(10)"
   ]
  },
  {
   "cell_type": "code",
   "execution_count": 47,
   "id": "800d5044-04c4-4c7a-935e-58eb3e1264ec",
   "metadata": {},
   "outputs": [
    {
     "data": {
      "text/plain": [
       "array([1., 1., 1.])"
      ]
     },
     "execution_count": 47,
     "metadata": {},
     "output_type": "execute_result"
    }
   ],
   "source": [
    "#crear vector de 3 unos\n",
    "np.ones(3)"
   ]
  },
  {
   "cell_type": "code",
   "execution_count": 49,
   "id": "1a70fe97-d275-4b7b-9dac-6e46bfe93029",
   "metadata": {},
   "outputs": [
    {
     "data": {
      "text/plain": [
       "array([9, 9, 9, 9, 9, 9])"
      ]
     },
     "execution_count": 49,
     "metadata": {},
     "output_type": "execute_result"
    }
   ],
   "source": [
    "#vector de 6 nueves, o lo que queramos\n",
    "np.full(6,9)"
   ]
  },
  {
   "cell_type": "code",
   "execution_count": 53,
   "id": "80eea4d4-16f0-448f-8a6a-89067637fba8",
   "metadata": {},
   "outputs": [
    {
     "data": {
      "text/plain": [
       "array([ 8, 21, 12,  5, 23,  0,  7, 11, 21, 22])"
      ]
     },
     "execution_count": 53,
     "metadata": {},
     "output_type": "execute_result"
    }
   ],
   "source": [
    "#esto es para que salgan los mismos num aleatorios a todos\n",
    "np.random.seed(15)\n",
    "\n",
    "#genera 10 numeros aleatorios enteros entre 0-25\n",
    "np.random.randint(0,25,10)"
   ]
  },
  {
   "cell_type": "code",
   "execution_count": 58,
   "id": "790d2c53-fe7f-4714-a875-402deb7947e2",
   "metadata": {},
   "outputs": [],
   "source": [
    "np.random.seed(15)\n",
    "aleatorios = np.random.randint(0,25,10)"
   ]
  },
  {
   "cell_type": "code",
   "execution_count": 59,
   "id": "7c7f1d67-b4d1-453c-98e4-40ba164f9fb6",
   "metadata": {},
   "outputs": [
    {
     "data": {
      "text/plain": [
       "array([ 8, 21, 12,  5, 23,  0,  7, 11, 21, 22])"
      ]
     },
     "execution_count": 59,
     "metadata": {},
     "output_type": "execute_result"
    }
   ],
   "source": [
    "aleatorios"
   ]
  },
  {
   "cell_type": "code",
   "execution_count": 62,
   "id": "93b260ff-5b91-4e69-8844-8cdba08d8d21",
   "metadata": {},
   "outputs": [],
   "source": [
    "#ordenar los elementos de menor a mayor\n",
    "aleatorios = np.sort(aleatorios)"
   ]
  },
  {
   "cell_type": "code",
   "execution_count": 61,
   "id": "bf20c1d9-f92d-47d2-a790-d9f4f8a922ff",
   "metadata": {},
   "outputs": [
    {
     "data": {
      "text/plain": [
       "array([ 0,  5,  7,  8, 11, 12, 21, 21, 22, 23])"
      ]
     },
     "execution_count": 61,
     "metadata": {},
     "output_type": "execute_result"
    }
   ],
   "source": [
    "aleatorios"
   ]
  },
  {
   "cell_type": "code",
   "execution_count": 64,
   "id": "b0cbf69c-7659-4c1e-b351-64f4f9956735",
   "metadata": {},
   "outputs": [
    {
     "data": {
      "text/plain": [
       "8"
      ]
     },
     "execution_count": 64,
     "metadata": {},
     "output_type": "execute_result"
    }
   ],
   "source": [
    "# nos dice la posicion 3 de la lista, iniciando de 0\n",
    "aleatorios[3]"
   ]
  },
  {
   "cell_type": "code",
   "execution_count": 73,
   "id": "8eb64004-cb0c-4248-b530-43453936ed23",
   "metadata": {},
   "outputs": [
    {
     "data": {
      "text/plain": [
       "array([ 8, 12])"
      ]
     },
     "execution_count": 73,
     "metadata": {},
     "output_type": "execute_result"
    }
   ],
   "source": [
    "#para ver elementos de dos o mas posiciones, se pone doble corchete\n",
    "aleatorios[[3,5]]"
   ]
  },
  {
   "cell_type": "code",
   "execution_count": 70,
   "id": "b749e46d-5f21-481e-b212-66a895a3b177",
   "metadata": {},
   "outputs": [
    {
     "data": {
      "text/plain": [
       "array([False, False,  True,  True,  True,  True,  True,  True,  True,\n",
       "        True])"
      ]
     },
     "execution_count": 70,
     "metadata": {},
     "output_type": "execute_result"
    }
   ],
   "source": [
    "aleatorios > 5"
   ]
  },
  {
   "cell_type": "code",
   "execution_count": 72,
   "id": "d91644fa-94a5-4f2a-b114-78995d359ac0",
   "metadata": {},
   "outputs": [
    {
     "data": {
      "text/plain": [
       "array([ 7,  8, 11, 12, 21, 21, 22, 23])"
      ]
     },
     "execution_count": 72,
     "metadata": {},
     "output_type": "execute_result"
    }
   ],
   "source": [
    "#nos dice los elementos mayores a 5\n",
    "aleatorios[aleatorios>5]"
   ]
  },
  {
   "cell_type": "code",
   "execution_count": 74,
   "id": "cc46cb0b-b52b-4d21-a773-e1fbfab92c4a",
   "metadata": {},
   "outputs": [],
   "source": [
    "numeros = [1.23, 2.45578, 5.6888785]"
   ]
  },
  {
   "cell_type": "code",
   "execution_count": 75,
   "id": "58d65aa6-d749-4847-aa51-4bd1b4f3207f",
   "metadata": {},
   "outputs": [],
   "source": [
    "numeros = np.array(numeros)"
   ]
  },
  {
   "cell_type": "code",
   "execution_count": 76,
   "id": "e5351cd5-2647-4dc7-8175-6af1f13fb80e",
   "metadata": {},
   "outputs": [
    {
     "data": {
      "text/plain": [
       "3.1248861666666667"
      ]
     },
     "execution_count": 76,
     "metadata": {},
     "output_type": "execute_result"
    }
   ],
   "source": [
    "#promedio por función\n",
    "np.mean(numeros)"
   ]
  },
  {
   "cell_type": "code",
   "execution_count": 78,
   "id": "696aa98b-9ab5-46a8-81bb-bf70a1afb80e",
   "metadata": {},
   "outputs": [
    {
     "data": {
      "text/plain": [
       "3.1248861666666667"
      ]
     },
     "execution_count": 78,
     "metadata": {},
     "output_type": "execute_result"
    }
   ],
   "source": [
    "#promedio por método\n",
    "numeros.mean()"
   ]
  },
  {
   "cell_type": "code",
   "execution_count": 80,
   "id": "e2c54f4b-f345-4b83-b33f-5c823bc2e9c7",
   "metadata": {},
   "outputs": [
    {
     "data": {
      "text/plain": [
       "3.12"
      ]
     },
     "execution_count": 80,
     "metadata": {},
     "output_type": "execute_result"
    }
   ],
   "source": [
    "#con función, se convierte en arreglo, se saca el promedio y se redondea a 2 decimales\n",
    "round(np.mean(np.array(numeros)),2)"
   ]
  },
  {
   "cell_type": "code",
   "execution_count": 81,
   "id": "f05d8444-e6ce-40f9-a35d-2f46f36cbe60",
   "metadata": {},
   "outputs": [
    {
     "data": {
      "text/plain": [
       "3.12"
      ]
     },
     "execution_count": 81,
     "metadata": {},
     "output_type": "execute_result"
    }
   ],
   "source": [
    "#con método, se convierte en arreglo, se saca el promedio y se redondea a 2 decimales\n",
    "np.array(numeros).mean().round(2)"
   ]
  }
 ],
 "metadata": {
  "kernelspec": {
   "display_name": "Python 3 (ipykernel)",
   "language": "python",
   "name": "python3"
  },
  "language_info": {
   "codemirror_mode": {
    "name": "ipython",
    "version": 3
   },
   "file_extension": ".py",
   "mimetype": "text/x-python",
   "name": "python",
   "nbconvert_exporter": "python",
   "pygments_lexer": "ipython3",
   "version": "3.9.12"
  }
 },
 "nbformat": 4,
 "nbformat_minor": 5
}
