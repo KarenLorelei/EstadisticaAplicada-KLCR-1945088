{
 "cells": [
  {
   "cell_type": "markdown",
   "id": "e8989bfb",
   "metadata": {},
   "source": [
    "## Estadística Aplicada\n",
    "### Karen Lorelei Cerda Roiz  1945088\n",
    "#### Series de Tiempo (Enfoque estocástico)\n",
    "##### 26 de abril del 2023"
   ]
  },
  {
   "cell_type": "code",
   "execution_count": 3,
   "id": "2b39a602",
   "metadata": {},
   "outputs": [],
   "source": [
    "#las de siempre\n",
    "import numpy as np\n",
    "import pandas as pd\n",
    "import matplotlib.pyplot as plt\n",
    "%matplotlib inline"
   ]
  },
  {
   "cell_type": "code",
   "execution_count": 4,
   "id": "ed927215",
   "metadata": {},
   "outputs": [],
   "source": [
    "#las de series de tiempo\n",
    "from statsmodels.graphics.tsaplots import plot_acf\n",
    "from statsmodels.graphics.tsaplots import plot_pacf\n",
    "from statsmodels.tsa.stattools import adfuller"
   ]
  },
  {
   "cell_type": "code",
   "execution_count": 5,
   "id": "58a704db",
   "metadata": {},
   "outputs": [],
   "source": [
    "# importar datos\n",
    "procesos= pd.read_excel('Procesos Estacionarios G43.xlsx')"
   ]
  },
  {
   "cell_type": "code",
   "execution_count": 6,
   "id": "e21a960e",
   "metadata": {},
   "outputs": [
    {
     "data": {
      "text/html": [
       "<div>\n",
       "<style scoped>\n",
       "    .dataframe tbody tr th:only-of-type {\n",
       "        vertical-align: middle;\n",
       "    }\n",
       "\n",
       "    .dataframe tbody tr th {\n",
       "        vertical-align: top;\n",
       "    }\n",
       "\n",
       "    .dataframe thead th {\n",
       "        text-align: right;\n",
       "    }\n",
       "</style>\n",
       "<table border=\"1\" class=\"dataframe\">\n",
       "  <thead>\n",
       "    <tr style=\"text-align: right;\">\n",
       "      <th></th>\n",
       "      <th>ruido_blanco</th>\n",
       "      <th>ar_1</th>\n",
       "      <th>ma_1</th>\n",
       "      <th>arma_11</th>\n",
       "    </tr>\n",
       "  </thead>\n",
       "  <tbody>\n",
       "    <tr>\n",
       "      <th>0</th>\n",
       "      <td>0.358165</td>\n",
       "      <td>1.558165</td>\n",
       "      <td>2.358165</td>\n",
       "      <td>1.258165</td>\n",
       "    </tr>\n",
       "    <tr>\n",
       "      <th>1</th>\n",
       "      <td>1.999506</td>\n",
       "      <td>2.934405</td>\n",
       "      <td>4.178588</td>\n",
       "      <td>2.734018</td>\n",
       "    </tr>\n",
       "    <tr>\n",
       "      <th>2</th>\n",
       "      <td>0.071345</td>\n",
       "      <td>1.831988</td>\n",
       "      <td>3.071098</td>\n",
       "      <td>2.241420</td>\n",
       "    </tr>\n",
       "    <tr>\n",
       "      <th>3</th>\n",
       "      <td>1.354253</td>\n",
       "      <td>2.453446</td>\n",
       "      <td>3.389925</td>\n",
       "      <td>2.396424</td>\n",
       "    </tr>\n",
       "    <tr>\n",
       "      <th>4</th>\n",
       "      <td>0.534788</td>\n",
       "      <td>2.006856</td>\n",
       "      <td>3.211915</td>\n",
       "      <td>2.249678</td>\n",
       "    </tr>\n",
       "    <tr>\n",
       "      <th>...</th>\n",
       "      <td>...</td>\n",
       "      <td>...</td>\n",
       "      <td>...</td>\n",
       "      <td>...</td>\n",
       "    </tr>\n",
       "    <tr>\n",
       "      <th>995</th>\n",
       "      <td>-0.332551</td>\n",
       "      <td>-0.636319</td>\n",
       "      <td>1.433529</td>\n",
       "      <td>-0.848132</td>\n",
       "    </tr>\n",
       "    <tr>\n",
       "      <th>996</th>\n",
       "      <td>0.761514</td>\n",
       "      <td>0.379723</td>\n",
       "      <td>2.595238</td>\n",
       "      <td>0.223556</td>\n",
       "    </tr>\n",
       "    <tr>\n",
       "      <th>997</th>\n",
       "      <td>0.141124</td>\n",
       "      <td>0.368958</td>\n",
       "      <td>2.521881</td>\n",
       "      <td>0.599636</td>\n",
       "    </tr>\n",
       "    <tr>\n",
       "      <th>998</th>\n",
       "      <td>1.503219</td>\n",
       "      <td>1.724594</td>\n",
       "      <td>3.573781</td>\n",
       "      <td>1.839384</td>\n",
       "    </tr>\n",
       "    <tr>\n",
       "      <th>999</th>\n",
       "      <td>-0.571102</td>\n",
       "      <td>0.463654</td>\n",
       "      <td>2.180508</td>\n",
       "      <td>0.963134</td>\n",
       "    </tr>\n",
       "  </tbody>\n",
       "</table>\n",
       "<p>1000 rows × 4 columns</p>\n",
       "</div>"
      ],
      "text/plain": [
       "     ruido_blanco      ar_1      ma_1   arma_11\n",
       "0        0.358165  1.558165  2.358165  1.258165\n",
       "1        1.999506  2.934405  4.178588  2.734018\n",
       "2        0.071345  1.831988  3.071098  2.241420\n",
       "3        1.354253  2.453446  3.389925  2.396424\n",
       "4        0.534788  2.006856  3.211915  2.249678\n",
       "..            ...       ...       ...       ...\n",
       "995     -0.332551 -0.636319  1.433529 -0.848132\n",
       "996      0.761514  0.379723  2.595238  0.223556\n",
       "997      0.141124  0.368958  2.521881  0.599636\n",
       "998      1.503219  1.724594  3.573781  1.839384\n",
       "999     -0.571102  0.463654  2.180508  0.963134\n",
       "\n",
       "[1000 rows x 4 columns]"
      ]
     },
     "execution_count": 6,
     "metadata": {},
     "output_type": "execute_result"
    }
   ],
   "source": [
    "procesos"
   ]
  },
  {
   "cell_type": "code",
   "execution_count": 12,
   "id": "aa97f516",
   "metadata": {},
   "outputs": [
    {
     "data": {
      "image/png": "[encoded data removed]",
      "text/plain": [
       "<Figure size 432x288 with 1 Axes>"
      ]
     },
     "metadata": {
      "needs_background": "light"
     },
     "output_type": "display_data"
    }
   ],
   "source": [
    "procesos['ruido_blanco'].plot(color='darkgray',linewidth=0.3)\n",
    "plt.title('Ruido Blanco')\n",
    "plt.xlim(0,1000)\n",
    "plt.xlabel('tiempo')\n",
    "plt.savefig('ruido_blanco.png')"
   ]
  },
  {
   "cell_type": "code",
   "execution_count": null,
   "id": "d71b0881",
   "metadata": {},
   "outputs": [],
   "source": []
  },
  {
   "cell_type": "code",
   "execution_count": null,
   "id": "51aa1f51",
   "metadata": {},
   "outputs": [],
   "source": []
  },
  {
   "cell_type": "code",
   "execution_count": null,
   "id": "d748b764",
   "metadata": {},
   "outputs": [],
   "source": []
  },
  {
   "cell_type": "code",
   "execution_count": null,
   "id": "df0409a5",
   "metadata": {},
   "outputs": [],
   "source": []
  },
  {
   "cell_type": "code",
   "execution_count": null,
   "id": "75b7c3eb",
   "metadata": {},
   "outputs": [],
   "source": []
  },
  {
   "cell_type": "code",
   "execution_count": null,
   "id": "8a7cbf4f",
   "metadata": {},
   "outputs": [],
   "source": []
  },
  {
   "cell_type": "code",
   "execution_count": null,
   "id": "4d686752",
   "metadata": {},
   "outputs": [],
   "source": []
  },
  {
   "cell_type": "code",
   "execution_count": null,
   "id": "59506706",
   "metadata": {},
   "outputs": [],
   "source": []
  },
  {
   "cell_type": "code",
   "execution_count": null,
   "id": "01785236",
   "metadata": {},
   "outputs": [],
   "source": []
  },
  {
   "cell_type": "code",
   "execution_count": null,
   "id": "c6cfc530",
   "metadata": {},
   "outputs": [],
   "source": []
  },
  {
   "cell_type": "code",
   "execution_count": null,
   "id": "3ec5a69d",
   "metadata": {},
   "outputs": [],
   "source": []
  }
 ],
 "metadata": {
  "kernelspec": {
   "display_name": "Python 3 (ipykernel)",
   "language": "python",
   "name": "python3"
  },
  "language_info": {
   "codemirror_mode": {
    "name": "ipython",
    "version": 3
   },
   "file_extension": ".py",
   "mimetype": "text/x-python",
   "name": "python",
   "nbconvert_exporter": "python",
   "pygments_lexer": "ipython3",
   "version": "3.9.12"
  }
 },
 "nbformat": 4,
 "nbformat_minor": 5
}
