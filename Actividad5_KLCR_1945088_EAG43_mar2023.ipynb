{
  "cells": [
    {
      "cell_type": "markdown",
      "metadata": {
        "id": "view-in-github",
        "colab_type": "text"
      },
      "source": [
        "<a href=\"https://colab.research.google.com/github/KarenLorelei/EstadisticaAplicada-KLCR-1945088/blob/main/Actividad5_KLCR_1945088_EAG43_mar2023.ipynb\" target=\"_parent\"><img src=\"https://colab.research.google.com/assets/colab-badge.svg\" alt=\"Open In Colab\"/></a>"
      ]
    },
    {
      "cell_type": "markdown",
      "id": "9e664f1b",
      "metadata": {
        "id": "9e664f1b"
      },
      "source": [
        "# Estadística Aplicada\n",
        "## Karen Lorelei Cerda Roiz 1945088\n",
        "### Tarea 05 a marzo del 2023"
      ]
    },
    {
      "cell_type": "code",
      "execution_count": 7,
      "id": "4f5c13b4",
      "metadata": {
        "id": "4f5c13b4"
      },
      "outputs": [],
      "source": [
        "import numpy as np\n",
        "import pandas as pd\n",
        "import matplotlib.pyplot as plt \n",
        "%matplotlib inline"
      ]
    },
    {
      "cell_type": "code",
      "execution_count": 10,
      "id": "debd5eb1",
      "metadata": {
        "id": "debd5eb1"
      },
      "outputs": [],
      "source": [
        "datos = pd.read_excel('supervivencia_examenes.xlsx')"
      ]
    },
    {
      "cell_type": "code",
      "execution_count": 11,
      "id": "5e62a918",
      "metadata": {
        "colab": {
          "base_uri": "https://localhost:8080/",
          "height": 206
        },
        "id": "5e62a918",
        "outputId": "be05fea3-33b4-4620-d420-bf380a0fecbc"
      },
      "outputs": [
        {
          "output_type": "execute_result",
          "data": {
            "text/plain": [
              "   id  tiempo  examen  calificación género\n",
              "0   1      85       1         100.0      m\n",
              "1   2     109       1         100.0      m\n",
              "2   3     118       1         100.0      m\n",
              "3   4     120       1         100.0      f\n",
              "4   5     106       1          98.0      f"
            ],
            "text/html": [
              "\n",
              "  <div id=\"df-ccc12e2d-0db0-4fa5-851f-5a6e9928aea1\">\n",
              "    <div class=\"colab-df-container\">\n",
              "      <div>\n",
              "<style scoped>\n",
              "    .dataframe tbody tr th:only-of-type {\n",
              "        vertical-align: middle;\n",
              "    }\n",
              "\n",
              "    .dataframe tbody tr th {\n",
              "        vertical-align: top;\n",
              "    }\n",
              "\n",
              "    .dataframe thead th {\n",
              "        text-align: right;\n",
              "    }\n",
              "</style>\n",
              "<table border=\"1\" class=\"dataframe\">\n",
              "  <thead>\n",
              "    <tr style=\"text-align: right;\">\n",
              "      <th></th>\n",
              "      <th>id</th>\n",
              "      <th>tiempo</th>\n",
              "      <th>examen</th>\n",
              "      <th>calificación</th>\n",
              "      <th>género</th>\n",
              "    </tr>\n",
              "  </thead>\n",
              "  <tbody>\n",
              "    <tr>\n",
              "      <th>0</th>\n",
              "      <td>1</td>\n",
              "      <td>85</td>\n",
              "      <td>1</td>\n",
              "      <td>100.0</td>\n",
              "      <td>m</td>\n",
              "    </tr>\n",
              "    <tr>\n",
              "      <th>1</th>\n",
              "      <td>2</td>\n",
              "      <td>109</td>\n",
              "      <td>1</td>\n",
              "      <td>100.0</td>\n",
              "      <td>m</td>\n",
              "    </tr>\n",
              "    <tr>\n",
              "      <th>2</th>\n",
              "      <td>3</td>\n",
              "      <td>118</td>\n",
              "      <td>1</td>\n",
              "      <td>100.0</td>\n",
              "      <td>m</td>\n",
              "    </tr>\n",
              "    <tr>\n",
              "      <th>3</th>\n",
              "      <td>4</td>\n",
              "      <td>120</td>\n",
              "      <td>1</td>\n",
              "      <td>100.0</td>\n",
              "      <td>f</td>\n",
              "    </tr>\n",
              "    <tr>\n",
              "      <th>4</th>\n",
              "      <td>5</td>\n",
              "      <td>106</td>\n",
              "      <td>1</td>\n",
              "      <td>98.0</td>\n",
              "      <td>f</td>\n",
              "    </tr>\n",
              "  </tbody>\n",
              "</table>\n",
              "</div>\n",
              "      <button class=\"colab-df-convert\" onclick=\"convertToInteractive('df-ccc12e2d-0db0-4fa5-851f-5a6e9928aea1')\"\n",
              "              title=\"Convert this dataframe to an interactive table.\"\n",
              "              style=\"display:none;\">\n",
              "        \n",
              "  <svg xmlns=\"http://www.w3.org/2000/svg\" height=\"24px\"viewBox=\"0 0 24 24\"\n",
              "       width=\"24px\">\n",
              "    <path d=\"M0 0h24v24H0V0z\" fill=\"none\"/>\n",
              "    <path d=\"M18.56 5.44l.94 2.06.94-2.06 2.06-.94-2.06-.94-.94-2.06-.94 2.06-2.06.94zm-11 1L8.5 8.5l.94-2.06 2.06-.94-2.06-.94L8.5 2.5l-.94 2.06-2.06.94zm10 10l.94 2.06.94-2.06 2.06-.94-2.06-.94-.94-2.06-.94 2.06-2.06.94z\"/><path d=\"M17.41 7.96l-1.37-1.37c-.4-.4-.92-.59-1.43-.59-.52 0-1.04.2-1.43.59L10.3 9.45l-7.72 7.72c-.78.78-.78 2.05 0 2.83L4 21.41c.39.39.9.59 1.41.59.51 0 1.02-.2 1.41-.59l7.78-7.78 2.81-2.81c.8-.78.8-2.07 0-2.86zM5.41 20L4 18.59l7.72-7.72 1.47 1.35L5.41 20z\"/>\n",
              "  </svg>\n",
              "      </button>\n",
              "      \n",
              "  <style>\n",
              "    .colab-df-container {\n",
              "      display:flex;\n",
              "      flex-wrap:wrap;\n",
              "      gap: 12px;\n",
              "    }\n",
              "\n",
              "    .colab-df-convert {\n",
              "      background-color: #E8F0FE;\n",
              "      border: none;\n",
              "      border-radius: 50%;\n",
              "      cursor: pointer;\n",
              "      display: none;\n",
              "      fill: #1967D2;\n",
              "      height: 32px;\n",
              "      padding: 0 0 0 0;\n",
              "      width: 32px;\n",
              "    }\n",
              "\n",
              "    .colab-df-convert:hover {\n",
              "      background-color: #E2EBFA;\n",
              "      box-shadow: 0px 1px 2px rgba(60, 64, 67, 0.3), 0px 1px 3px 1px rgba(60, 64, 67, 0.15);\n",
              "      fill: #174EA6;\n",
              "    }\n",
              "\n",
              "    [theme=dark] .colab-df-convert {\n",
              "      background-color: #3B4455;\n",
              "      fill: #D2E3FC;\n",
              "    }\n",
              "\n",
              "    [theme=dark] .colab-df-convert:hover {\n",
              "      background-color: #434B5C;\n",
              "      box-shadow: 0px 1px 3px 1px rgba(0, 0, 0, 0.15);\n",
              "      filter: drop-shadow(0px 1px 2px rgba(0, 0, 0, 0.3));\n",
              "      fill: #FFFFFF;\n",
              "    }\n",
              "  </style>\n",
              "\n",
              "      <script>\n",
              "        const buttonEl =\n",
              "          document.querySelector('#df-ccc12e2d-0db0-4fa5-851f-5a6e9928aea1 button.colab-df-convert');\n",
              "        buttonEl.style.display =\n",
              "          google.colab.kernel.accessAllowed ? 'block' : 'none';\n",
              "\n",
              "        async function convertToInteractive(key) {\n",
              "          const element = document.querySelector('#df-ccc12e2d-0db0-4fa5-851f-5a6e9928aea1');\n",
              "          const dataTable =\n",
              "            await google.colab.kernel.invokeFunction('convertToInteractive',\n",
              "                                                     [key], {});\n",
              "          if (!dataTable) return;\n",
              "\n",
              "          const docLinkHtml = 'Like what you see? Visit the ' +\n",
              "            '<a target=\"_blank\" href=https://colab.research.google.com/notebooks/data_table.ipynb>data table notebook</a>'\n",
              "            + ' to learn more about interactive tables.';\n",
              "          element.innerHTML = '';\n",
              "          dataTable['output_type'] = 'display_data';\n",
              "          await google.colab.output.renderOutput(dataTable, element);\n",
              "          const docLink = document.createElement('div');\n",
              "          docLink.innerHTML = docLinkHtml;\n",
              "          element.appendChild(docLink);\n",
              "        }\n",
              "      </script>\n",
              "    </div>\n",
              "  </div>\n",
              "  "
            ]
          },
          "metadata": {},
          "execution_count": 11
        }
      ],
      "source": [
        "datos.head()"
      ]
    },
    {
      "cell_type": "markdown",
      "id": "050f03e4",
      "metadata": {
        "id": "050f03e4"
      },
      "source": [
        "### a) Estadísticas Descriptivas. Calcule el tiempo promedio que tardaron en responder los alumnos el examen y la calificación promedio obtenida. El profesor sospecha que las alumnas responden más rápido el examen, calcule el tiempo promedio que tardaron en responder las alumnas y su calificación promedio, asi como el tiempo promedio que tardaron en responder los alumnos y su calificación promedio. Elabore un print mostrando dichos resultados "
      ]
    },
    {
      "cell_type": "code",
      "execution_count": 12,
      "id": "8d679792",
      "metadata": {
        "colab": {
          "base_uri": "https://localhost:8080/"
        },
        "id": "8d679792",
        "outputId": "65ccddd7-2c11-42fe-b92a-55c4c6dbd36a"
      },
      "outputs": [
        {
          "output_type": "stream",
          "name": "stdout",
          "text": [
            "El tiempo promedio que tardaron en responder todos los alumnos el examen es de 107.35 minutos\n",
            "La calificación promedio obtenida de todos los alumnos es de 90.71\n"
          ]
        }
      ],
      "source": [
        "tp = datos['tiempo'].mean()\n",
        "cp = datos['calificación'].mean()\n",
        "\n",
        "print('El tiempo promedio que tardaron en responder todos los alumnos el examen es de', round(tp,2), 'minutos')\n",
        "print('La calificación promedio obtenida de todos los alumnos es de', round(cp,2))"
      ]
    },
    {
      "cell_type": "code",
      "execution_count": 13,
      "id": "706c9ea9",
      "metadata": {
        "id": "706c9ea9"
      },
      "outputs": [],
      "source": [
        "dxg = pd.get_dummies(datos['género'])"
      ]
    },
    {
      "cell_type": "code",
      "execution_count": 14,
      "id": "5d175a54",
      "metadata": {
        "id": "5d175a54"
      },
      "outputs": [],
      "source": [
        "datos['f'] = dxg['f']"
      ]
    },
    {
      "cell_type": "code",
      "source": [
        "datos = datos.drop(['género'], axis=1)"
      ],
      "metadata": {
        "id": "lu41dZx1wU5G"
      },
      "id": "lu41dZx1wU5G",
      "execution_count": 67,
      "outputs": []
    },
    {
      "cell_type": "code",
      "source": [
        "datos.head()"
      ],
      "metadata": {
        "colab": {
          "base_uri": "https://localhost:8080/",
          "height": 206
        },
        "id": "p5AibEHmfPOZ",
        "outputId": "4bed6145-a223-4cc8-9400-b32086990c9a"
      },
      "id": "p5AibEHmfPOZ",
      "execution_count": 68,
      "outputs": [
        {
          "output_type": "execute_result",
          "data": {
            "text/plain": [
              "   id  tiempo  examen  calificación  f\n",
              "0   1      85       1         100.0  0\n",
              "1   2     109       1         100.0  0\n",
              "2   3     118       1         100.0  0\n",
              "3   4     120       1         100.0  1\n",
              "4   5     106       1          98.0  1"
            ],
            "text/html": [
              "\n",
              "  <div id=\"df-4082dbe2-2065-48bc-ad83-8383a5fafb79\">\n",
              "    <div class=\"colab-df-container\">\n",
              "      <div>\n",
              "<style scoped>\n",
              "    .dataframe tbody tr th:only-of-type {\n",
              "        vertical-align: middle;\n",
              "    }\n",
              "\n",
              "    .dataframe tbody tr th {\n",
              "        vertical-align: top;\n",
              "    }\n",
              "\n",
              "    .dataframe thead th {\n",
              "        text-align: right;\n",
              "    }\n",
              "</style>\n",
              "<table border=\"1\" class=\"dataframe\">\n",
              "  <thead>\n",
              "    <tr style=\"text-align: right;\">\n",
              "      <th></th>\n",
              "      <th>id</th>\n",
              "      <th>tiempo</th>\n",
              "      <th>examen</th>\n",
              "      <th>calificación</th>\n",
              "      <th>f</th>\n",
              "    </tr>\n",
              "  </thead>\n",
              "  <tbody>\n",
              "    <tr>\n",
              "      <th>0</th>\n",
              "      <td>1</td>\n",
              "      <td>85</td>\n",
              "      <td>1</td>\n",
              "      <td>100.0</td>\n",
              "      <td>0</td>\n",
              "    </tr>\n",
              "    <tr>\n",
              "      <th>1</th>\n",
              "      <td>2</td>\n",
              "      <td>109</td>\n",
              "      <td>1</td>\n",
              "      <td>100.0</td>\n",
              "      <td>0</td>\n",
              "    </tr>\n",
              "    <tr>\n",
              "      <th>2</th>\n",
              "      <td>3</td>\n",
              "      <td>118</td>\n",
              "      <td>1</td>\n",
              "      <td>100.0</td>\n",
              "      <td>0</td>\n",
              "    </tr>\n",
              "    <tr>\n",
              "      <th>3</th>\n",
              "      <td>4</td>\n",
              "      <td>120</td>\n",
              "      <td>1</td>\n",
              "      <td>100.0</td>\n",
              "      <td>1</td>\n",
              "    </tr>\n",
              "    <tr>\n",
              "      <th>4</th>\n",
              "      <td>5</td>\n",
              "      <td>106</td>\n",
              "      <td>1</td>\n",
              "      <td>98.0</td>\n",
              "      <td>1</td>\n",
              "    </tr>\n",
              "  </tbody>\n",
              "</table>\n",
              "</div>\n",
              "      <button class=\"colab-df-convert\" onclick=\"convertToInteractive('df-4082dbe2-2065-48bc-ad83-8383a5fafb79')\"\n",
              "              title=\"Convert this dataframe to an interactive table.\"\n",
              "              style=\"display:none;\">\n",
              "        \n",
              "  <svg xmlns=\"http://www.w3.org/2000/svg\" height=\"24px\"viewBox=\"0 0 24 24\"\n",
              "       width=\"24px\">\n",
              "    <path d=\"M0 0h24v24H0V0z\" fill=\"none\"/>\n",
              "    <path d=\"M18.56 5.44l.94 2.06.94-2.06 2.06-.94-2.06-.94-.94-2.06-.94 2.06-2.06.94zm-11 1L8.5 8.5l.94-2.06 2.06-.94-2.06-.94L8.5 2.5l-.94 2.06-2.06.94zm10 10l.94 2.06.94-2.06 2.06-.94-2.06-.94-.94-2.06-.94 2.06-2.06.94z\"/><path d=\"M17.41 7.96l-1.37-1.37c-.4-.4-.92-.59-1.43-.59-.52 0-1.04.2-1.43.59L10.3 9.45l-7.72 7.72c-.78.78-.78 2.05 0 2.83L4 21.41c.39.39.9.59 1.41.59.51 0 1.02-.2 1.41-.59l7.78-7.78 2.81-2.81c.8-.78.8-2.07 0-2.86zM5.41 20L4 18.59l7.72-7.72 1.47 1.35L5.41 20z\"/>\n",
              "  </svg>\n",
              "      </button>\n",
              "      \n",
              "  <style>\n",
              "    .colab-df-container {\n",
              "      display:flex;\n",
              "      flex-wrap:wrap;\n",
              "      gap: 12px;\n",
              "    }\n",
              "\n",
              "    .colab-df-convert {\n",
              "      background-color: #E8F0FE;\n",
              "      border: none;\n",
              "      border-radius: 50%;\n",
              "      cursor: pointer;\n",
              "      display: none;\n",
              "      fill: #1967D2;\n",
              "      height: 32px;\n",
              "      padding: 0 0 0 0;\n",
              "      width: 32px;\n",
              "    }\n",
              "\n",
              "    .colab-df-convert:hover {\n",
              "      background-color: #E2EBFA;\n",
              "      box-shadow: 0px 1px 2px rgba(60, 64, 67, 0.3), 0px 1px 3px 1px rgba(60, 64, 67, 0.15);\n",
              "      fill: #174EA6;\n",
              "    }\n",
              "\n",
              "    [theme=dark] .colab-df-convert {\n",
              "      background-color: #3B4455;\n",
              "      fill: #D2E3FC;\n",
              "    }\n",
              "\n",
              "    [theme=dark] .colab-df-convert:hover {\n",
              "      background-color: #434B5C;\n",
              "      box-shadow: 0px 1px 3px 1px rgba(0, 0, 0, 0.15);\n",
              "      filter: drop-shadow(0px 1px 2px rgba(0, 0, 0, 0.3));\n",
              "      fill: #FFFFFF;\n",
              "    }\n",
              "  </style>\n",
              "\n",
              "      <script>\n",
              "        const buttonEl =\n",
              "          document.querySelector('#df-4082dbe2-2065-48bc-ad83-8383a5fafb79 button.colab-df-convert');\n",
              "        buttonEl.style.display =\n",
              "          google.colab.kernel.accessAllowed ? 'block' : 'none';\n",
              "\n",
              "        async function convertToInteractive(key) {\n",
              "          const element = document.querySelector('#df-4082dbe2-2065-48bc-ad83-8383a5fafb79');\n",
              "          const dataTable =\n",
              "            await google.colab.kernel.invokeFunction('convertToInteractive',\n",
              "                                                     [key], {});\n",
              "          if (!dataTable) return;\n",
              "\n",
              "          const docLinkHtml = 'Like what you see? Visit the ' +\n",
              "            '<a target=\"_blank\" href=https://colab.research.google.com/notebooks/data_table.ipynb>data table notebook</a>'\n",
              "            + ' to learn more about interactive tables.';\n",
              "          element.innerHTML = '';\n",
              "          dataTable['output_type'] = 'display_data';\n",
              "          await google.colab.output.renderOutput(dataTable, element);\n",
              "          const docLink = document.createElement('div');\n",
              "          docLink.innerHTML = docLinkHtml;\n",
              "          element.appendChild(docLink);\n",
              "        }\n",
              "      </script>\n",
              "    </div>\n",
              "  </div>\n",
              "  "
            ]
          },
          "metadata": {},
          "execution_count": 68
        }
      ]
    },
    {
      "cell_type": "code",
      "execution_count": 16,
      "id": "81eaab07",
      "metadata": {
        "colab": {
          "base_uri": "https://localhost:8080/"
        },
        "id": "81eaab07",
        "outputId": "190dde95-e278-4e70-d8c5-8b8c02b5aab5"
      },
      "outputs": [
        {
          "output_type": "stream",
          "name": "stdout",
          "text": [
            "El tiempo promedio que tardaron en responder las alumnas el examen es de 108.12 minutos; y su calificación promedio obtenida es de 93.0\n",
            "El tiempo promedio que tardaron en responder los alumnos el examen es de 106.67 minutos; y su calificación promedio obtenida es de 88.67\n"
          ]
        }
      ],
      "source": [
        "df = datos.query(\"f==1\")\n",
        "dm = datos.query('f==0')\n",
        "\n",
        "tpf = df['tiempo'].mean()\n",
        "tpm = dm['tiempo'].mean()\n",
        "\n",
        "cpf = df['calificación'].mean()\n",
        "cpm = dm['calificación'].mean()\n",
        "\n",
        "print('El tiempo promedio que tardaron en responder las alumnas el examen es de', round(tpf,2), 'minutos; y su calificación promedio obtenida es de', round(cpf,2))\n",
        "print('El tiempo promedio que tardaron en responder los alumnos el examen es de', round(tpm,2), 'minutos; y su calificación promedio obtenida es de', round(cpm,2))\n"
      ]
    },
    {
      "cell_type": "markdown",
      "id": "7af9d961",
      "metadata": {
        "id": "7af9d961"
      },
      "source": [
        "### b) ¿Cómo crees que se comporta el riesgo de entregar el examen conforme transcurre el tiempo? ¿es constante, creciente o decreciente? Según tu respuesta ajusta un modelo exponencial o weibull, primero para todos los individuos y muestra la función de riesgo."
      ]
    },
    {
      "cell_type": "markdown",
      "id": "ea669ef4",
      "metadata": {
        "id": "ea669ef4"
      },
      "source": [
        "Yo creo que el riesgo de entregar el examen es creciente, por que entre mas pasa el tiempo, mas personas terminan de contestar el examen y por ende lo entregan. Por lo que pienso que lo correcto es ajustar un modelo de Weibull; pero para comprobarlo, analizare el criterio de Akaike y vere cual es la mejor, para proceder a ajustar ese modelo."
      ]
    },
    {
      "cell_type": "code",
      "source": [
        "from lifelines import ExponentialFitter"
      ],
      "metadata": {
        "id": "g5Tt3MsChvVz"
      },
      "id": "g5Tt3MsChvVz",
      "execution_count": 18,
      "outputs": []
    },
    {
      "cell_type": "code",
      "execution_count": 17,
      "id": "3c2305e4",
      "metadata": {
        "id": "3c2305e4"
      },
      "outputs": [],
      "source": [
        "from lifelines import WeibullFitter"
      ]
    },
    {
      "cell_type": "code",
      "source": [
        "expt = ExponentialFitter().fit(datos['tiempo'],datos['examen'])"
      ],
      "metadata": {
        "id": "40cporDkiA9m"
      },
      "id": "40cporDkiA9m",
      "execution_count": 19,
      "outputs": []
    },
    {
      "cell_type": "code",
      "execution_count": 20,
      "id": "d25752af",
      "metadata": {
        "id": "d25752af"
      },
      "outputs": [],
      "source": [
        "weibt = WeibullFitter().fit(datos['tiempo'],datos['examen'])"
      ]
    },
    {
      "cell_type": "code",
      "source": [
        "expt.AIC_.round(), weibt.AIC_.round()"
      ],
      "metadata": {
        "colab": {
          "base_uri": "https://localhost:8080/"
        },
        "id": "p_xMINKgilnb",
        "outputId": "940c09e4-09be-4825-a09a-ff6bcd58f9b6"
      },
      "id": "p_xMINKgilnb",
      "execution_count": 21,
      "outputs": [
        {
          "output_type": "execute_result",
          "data": {
            "text/plain": [
              "(195.0, 130.0)"
            ]
          },
          "metadata": {},
          "execution_count": 21
        }
      ]
    },
    {
      "cell_type": "markdown",
      "source": [
        "El mejor modelo es el Weibull, ya que es el que tiene menor criterio de Akaike."
      ],
      "metadata": {
        "id": "cYWNz3lQjA9_"
      },
      "id": "cYWNz3lQjA9_"
    },
    {
      "cell_type": "code",
      "execution_count": 34,
      "id": "302f7a40",
      "metadata": {
        "colab": {
          "base_uri": "https://localhost:8080/",
          "height": 295
        },
        "id": "302f7a40",
        "outputId": "4c487526-bbe1-4aa5-e9ca-dd33c3b635c3"
      },
      "outputs": [
        {
          "output_type": "display_data",
          "data": {
            "text/plain": [
              "<Figure size 432x288 with 1 Axes>"
            ],
            "image/png": "[encoded data removed]"
          },
          "metadata": {
            "needs_background": "light"
          }
        }
      ],
      "source": [
        "weibt.plot_hazard(label = 'Estimador Weibull', color = 'mediumorchid');\n",
        "plt.title('Función de riesgo de entregar el examen para todos los alumnos')\n",
        "plt.ylabel('$h(t)$')\n",
        "plt.xlabel('minutos')\n",
        "plt.show()"
      ]
    },
    {
      "cell_type": "code",
      "execution_count": 25,
      "id": "ced165c1",
      "metadata": {
        "scrolled": true,
        "colab": {
          "base_uri": "https://localhost:8080/",
          "height": 582
        },
        "id": "ced165c1",
        "outputId": "990c6c60-62e2-4e49-8668-5b02c1a538ec"
      },
      "outputs": [
        {
          "output_type": "execute_result",
          "data": {
            "text/plain": [
              "          Weibull_estimate\n",
              "85.0000           0.004025\n",
              "87.1875           0.005499\n",
              "89.3750           0.007454\n",
              "91.5625           0.010031\n",
              "93.7500           0.013405\n",
              "95.9375           0.017795\n",
              "98.1250           0.023471\n",
              "100.3125          0.030769\n",
              "102.5000          0.040101\n",
              "104.6875          0.051973\n",
              "106.8750          0.066999\n",
              "109.0625          0.085926\n",
              "111.2500          0.109657\n",
              "113.4375          0.139278\n",
              "115.6250          0.176095\n",
              "117.8125          0.221667\n",
              "120.0000          0.277854"
            ],
            "text/html": [
              "\n",
              "  <div id=\"df-c1b96774-d52e-4073-9bf8-f69aad71c28f\">\n",
              "    <div class=\"colab-df-container\">\n",
              "      <div>\n",
              "<style scoped>\n",
              "    .dataframe tbody tr th:only-of-type {\n",
              "        vertical-align: middle;\n",
              "    }\n",
              "\n",
              "    .dataframe tbody tr th {\n",
              "        vertical-align: top;\n",
              "    }\n",
              "\n",
              "    .dataframe thead th {\n",
              "        text-align: right;\n",
              "    }\n",
              "</style>\n",
              "<table border=\"1\" class=\"dataframe\">\n",
              "  <thead>\n",
              "    <tr style=\"text-align: right;\">\n",
              "      <th></th>\n",
              "      <th>Weibull_estimate</th>\n",
              "    </tr>\n",
              "  </thead>\n",
              "  <tbody>\n",
              "    <tr>\n",
              "      <th>85.0000</th>\n",
              "      <td>0.004025</td>\n",
              "    </tr>\n",
              "    <tr>\n",
              "      <th>87.1875</th>\n",
              "      <td>0.005499</td>\n",
              "    </tr>\n",
              "    <tr>\n",
              "      <th>89.3750</th>\n",
              "      <td>0.007454</td>\n",
              "    </tr>\n",
              "    <tr>\n",
              "      <th>91.5625</th>\n",
              "      <td>0.010031</td>\n",
              "    </tr>\n",
              "    <tr>\n",
              "      <th>93.7500</th>\n",
              "      <td>0.013405</td>\n",
              "    </tr>\n",
              "    <tr>\n",
              "      <th>95.9375</th>\n",
              "      <td>0.017795</td>\n",
              "    </tr>\n",
              "    <tr>\n",
              "      <th>98.1250</th>\n",
              "      <td>0.023471</td>\n",
              "    </tr>\n",
              "    <tr>\n",
              "      <th>100.3125</th>\n",
              "      <td>0.030769</td>\n",
              "    </tr>\n",
              "    <tr>\n",
              "      <th>102.5000</th>\n",
              "      <td>0.040101</td>\n",
              "    </tr>\n",
              "    <tr>\n",
              "      <th>104.6875</th>\n",
              "      <td>0.051973</td>\n",
              "    </tr>\n",
              "    <tr>\n",
              "      <th>106.8750</th>\n",
              "      <td>0.066999</td>\n",
              "    </tr>\n",
              "    <tr>\n",
              "      <th>109.0625</th>\n",
              "      <td>0.085926</td>\n",
              "    </tr>\n",
              "    <tr>\n",
              "      <th>111.2500</th>\n",
              "      <td>0.109657</td>\n",
              "    </tr>\n",
              "    <tr>\n",
              "      <th>113.4375</th>\n",
              "      <td>0.139278</td>\n",
              "    </tr>\n",
              "    <tr>\n",
              "      <th>115.6250</th>\n",
              "      <td>0.176095</td>\n",
              "    </tr>\n",
              "    <tr>\n",
              "      <th>117.8125</th>\n",
              "      <td>0.221667</td>\n",
              "    </tr>\n",
              "    <tr>\n",
              "      <th>120.0000</th>\n",
              "      <td>0.277854</td>\n",
              "    </tr>\n",
              "  </tbody>\n",
              "</table>\n",
              "</div>\n",
              "      <button class=\"colab-df-convert\" onclick=\"convertToInteractive('df-c1b96774-d52e-4073-9bf8-f69aad71c28f')\"\n",
              "              title=\"Convert this dataframe to an interactive table.\"\n",
              "              style=\"display:none;\">\n",
              "        \n",
              "  <svg xmlns=\"http://www.w3.org/2000/svg\" height=\"24px\"viewBox=\"0 0 24 24\"\n",
              "       width=\"24px\">\n",
              "    <path d=\"M0 0h24v24H0V0z\" fill=\"none\"/>\n",
              "    <path d=\"M18.56 5.44l.94 2.06.94-2.06 2.06-.94-2.06-.94-.94-2.06-.94 2.06-2.06.94zm-11 1L8.5 8.5l.94-2.06 2.06-.94-2.06-.94L8.5 2.5l-.94 2.06-2.06.94zm10 10l.94 2.06.94-2.06 2.06-.94-2.06-.94-.94-2.06-.94 2.06-2.06.94z\"/><path d=\"M17.41 7.96l-1.37-1.37c-.4-.4-.92-.59-1.43-.59-.52 0-1.04.2-1.43.59L10.3 9.45l-7.72 7.72c-.78.78-.78 2.05 0 2.83L4 21.41c.39.39.9.59 1.41.59.51 0 1.02-.2 1.41-.59l7.78-7.78 2.81-2.81c.8-.78.8-2.07 0-2.86zM5.41 20L4 18.59l7.72-7.72 1.47 1.35L5.41 20z\"/>\n",
              "  </svg>\n",
              "      </button>\n",
              "      \n",
              "  <style>\n",
              "    .colab-df-container {\n",
              "      display:flex;\n",
              "      flex-wrap:wrap;\n",
              "      gap: 12px;\n",
              "    }\n",
              "\n",
              "    .colab-df-convert {\n",
              "      background-color: #E8F0FE;\n",
              "      border: none;\n",
              "      border-radius: 50%;\n",
              "      cursor: pointer;\n",
              "      display: none;\n",
              "      fill: #1967D2;\n",
              "      height: 32px;\n",
              "      padding: 0 0 0 0;\n",
              "      width: 32px;\n",
              "    }\n",
              "\n",
              "    .colab-df-convert:hover {\n",
              "      background-color: #E2EBFA;\n",
              "      box-shadow: 0px 1px 2px rgba(60, 64, 67, 0.3), 0px 1px 3px 1px rgba(60, 64, 67, 0.15);\n",
              "      fill: #174EA6;\n",
              "    }\n",
              "\n",
              "    [theme=dark] .colab-df-convert {\n",
              "      background-color: #3B4455;\n",
              "      fill: #D2E3FC;\n",
              "    }\n",
              "\n",
              "    [theme=dark] .colab-df-convert:hover {\n",
              "      background-color: #434B5C;\n",
              "      box-shadow: 0px 1px 3px 1px rgba(0, 0, 0, 0.15);\n",
              "      filter: drop-shadow(0px 1px 2px rgba(0, 0, 0, 0.3));\n",
              "      fill: #FFFFFF;\n",
              "    }\n",
              "  </style>\n",
              "\n",
              "      <script>\n",
              "        const buttonEl =\n",
              "          document.querySelector('#df-c1b96774-d52e-4073-9bf8-f69aad71c28f button.colab-df-convert');\n",
              "        buttonEl.style.display =\n",
              "          google.colab.kernel.accessAllowed ? 'block' : 'none';\n",
              "\n",
              "        async function convertToInteractive(key) {\n",
              "          const element = document.querySelector('#df-c1b96774-d52e-4073-9bf8-f69aad71c28f');\n",
              "          const dataTable =\n",
              "            await google.colab.kernel.invokeFunction('convertToInteractive',\n",
              "                                                     [key], {});\n",
              "          if (!dataTable) return;\n",
              "\n",
              "          const docLinkHtml = 'Like what you see? Visit the ' +\n",
              "            '<a target=\"_blank\" href=https://colab.research.google.com/notebooks/data_table.ipynb>data table notebook</a>'\n",
              "            + ' to learn more about interactive tables.';\n",
              "          element.innerHTML = '';\n",
              "          dataTable['output_type'] = 'display_data';\n",
              "          await google.colab.output.renderOutput(dataTable, element);\n",
              "          const docLink = document.createElement('div');\n",
              "          docLink.innerHTML = docLinkHtml;\n",
              "          element.appendChild(docLink);\n",
              "        }\n",
              "      </script>\n",
              "    </div>\n",
              "  </div>\n",
              "  "
            ]
          },
          "metadata": {},
          "execution_count": 25
        }
      ],
      "source": [
        "weibt.hazard_"
      ]
    },
    {
      "cell_type": "markdown",
      "id": "65ad74ae",
      "metadata": {
        "id": "65ad74ae"
      },
      "source": [
        "### c) Ahora estima el mismo modelo que planteaste en el inciso anterior, pero para hombres  y  mujeres,  y  grafica  ambas  funciones  de  supervivencia  juntas (empalmadas), ¿gráficamente quien tarda más en entregar el examen?"
      ]
    },
    {
      "cell_type": "code",
      "execution_count": 26,
      "id": "61536265",
      "metadata": {
        "id": "61536265"
      },
      "outputs": [],
      "source": [
        "wf = WeibullFitter().fit(df['tiempo'],df['examen'])\n",
        "wm = WeibullFitter().fit(dm['tiempo'],dm['examen'])"
      ]
    },
    {
      "cell_type": "code",
      "execution_count": 33,
      "id": "7eecca43",
      "metadata": {
        "colab": {
          "base_uri": "https://localhost:8080/",
          "height": 295
        },
        "id": "7eecca43",
        "outputId": "591f2657-9613-499b-8a7d-b2e3f7e0a38f"
      },
      "outputs": [
        {
          "output_type": "display_data",
          "data": {
            "text/plain": [
              "<Figure size 432x288 with 1 Axes>"
            ],
            "image/png": "[encoded data removed]"
          },
          "metadata": {
            "needs_background": "light"
          }
        }
      ],
      "source": [
        "wm.plot_hazard(label = \"Alumnos\", color = 'SkyBlue');\n",
        "wf.plot_hazard(label = \"Alumnas\", color = 'Pink');\n",
        "plt.title('Función de riesgo de entregar el examen para alumnos y alumnas')\n",
        "plt.ylabel('$h(t)$')\n",
        "plt.xlabel('minutos')\n",
        "plt.show()"
      ]
    },
    {
      "cell_type": "markdown",
      "id": "51eb9e9d",
      "metadata": {
        "id": "51eb9e9d"
      },
      "source": [
        "Graficamente se puede apreciar que las alumnas tardan más en entregar el examen ya que su area (la rosa) empieza y termina un poco mas a la derecha que el area azul que es la de los alumnos."
      ]
    },
    {
      "cell_type": "markdown",
      "id": "ad375558",
      "metadata": {
        "id": "ad375558"
      },
      "source": [
        "### d) Estime  la  función  de  supervivencia del  tiempo  de  entrega del  examen  de todos los alumnos utilizando Kaplan-Meier, muestre los valores de la función de supervivencia, los valores del intervalo de confianza al 95%, asi como la gráfica respectiva de la función de supervivencia con sus intervalos."
      ]
    },
    {
      "cell_type": "code",
      "execution_count": 35,
      "id": "d8779594",
      "metadata": {
        "id": "d8779594"
      },
      "outputs": [],
      "source": [
        "from lifelines import KaplanMeierFitter"
      ]
    },
    {
      "cell_type": "code",
      "execution_count": 36,
      "id": "14c45e7d",
      "metadata": {
        "id": "14c45e7d"
      },
      "outputs": [],
      "source": [
        "kmt = KaplanMeierFitter().fit(datos['tiempo'], datos['examen'])"
      ]
    },
    {
      "cell_type": "code",
      "execution_count": 40,
      "id": "79990544",
      "metadata": {
        "colab": {
          "base_uri": "https://localhost:8080/",
          "height": 451
        },
        "id": "79990544",
        "outputId": "50354af9-74c5-468e-b82e-7927d4bcf030"
      },
      "outputs": [
        {
          "output_type": "execute_result",
          "data": {
            "text/plain": [
              "          KM_estimate\n",
              "timeline             \n",
              "0.0          1.000000\n",
              "85.0         0.941176\n",
              "87.0         0.882353\n",
              "90.0         0.823529\n",
              "99.0         0.764706\n",
              "103.0        0.705882\n",
              "106.0        0.647059\n",
              "108.0        0.529412\n",
              "109.0        0.470588\n",
              "111.0        0.411765\n",
              "112.0        0.352941\n",
              "115.0        0.294118\n",
              "116.0        0.235294\n",
              "118.0        0.176471\n",
              "119.0        0.058824\n",
              "120.0        0.000000"
            ],
            "text/html": [
              "\n",
              "  <div id=\"df-af220e65-e39f-4115-93c9-7169fc7d8ecc\">\n",
              "    <div class=\"colab-df-container\">\n",
              "      <div>\n",
              "<style scoped>\n",
              "    .dataframe tbody tr th:only-of-type {\n",
              "        vertical-align: middle;\n",
              "    }\n",
              "\n",
              "    .dataframe tbody tr th {\n",
              "        vertical-align: top;\n",
              "    }\n",
              "\n",
              "    .dataframe thead th {\n",
              "        text-align: right;\n",
              "    }\n",
              "</style>\n",
              "<table border=\"1\" class=\"dataframe\">\n",
              "  <thead>\n",
              "    <tr style=\"text-align: right;\">\n",
              "      <th></th>\n",
              "      <th>KM_estimate</th>\n",
              "    </tr>\n",
              "    <tr>\n",
              "      <th>timeline</th>\n",
              "      <th></th>\n",
              "    </tr>\n",
              "  </thead>\n",
              "  <tbody>\n",
              "    <tr>\n",
              "      <th>0.0</th>\n",
              "      <td>1.000000</td>\n",
              "    </tr>\n",
              "    <tr>\n",
              "      <th>85.0</th>\n",
              "      <td>0.941176</td>\n",
              "    </tr>\n",
              "    <tr>\n",
              "      <th>87.0</th>\n",
              "      <td>0.882353</td>\n",
              "    </tr>\n",
              "    <tr>\n",
              "      <th>90.0</th>\n",
              "      <td>0.823529</td>\n",
              "    </tr>\n",
              "    <tr>\n",
              "      <th>99.0</th>\n",
              "      <td>0.764706</td>\n",
              "    </tr>\n",
              "    <tr>\n",
              "      <th>103.0</th>\n",
              "      <td>0.705882</td>\n",
              "    </tr>\n",
              "    <tr>\n",
              "      <th>106.0</th>\n",
              "      <td>0.647059</td>\n",
              "    </tr>\n",
              "    <tr>\n",
              "      <th>108.0</th>\n",
              "      <td>0.529412</td>\n",
              "    </tr>\n",
              "    <tr>\n",
              "      <th>109.0</th>\n",
              "      <td>0.470588</td>\n",
              "    </tr>\n",
              "    <tr>\n",
              "      <th>111.0</th>\n",
              "      <td>0.411765</td>\n",
              "    </tr>\n",
              "    <tr>\n",
              "      <th>112.0</th>\n",
              "      <td>0.352941</td>\n",
              "    </tr>\n",
              "    <tr>\n",
              "      <th>115.0</th>\n",
              "      <td>0.294118</td>\n",
              "    </tr>\n",
              "    <tr>\n",
              "      <th>116.0</th>\n",
              "      <td>0.235294</td>\n",
              "    </tr>\n",
              "    <tr>\n",
              "      <th>118.0</th>\n",
              "      <td>0.176471</td>\n",
              "    </tr>\n",
              "    <tr>\n",
              "      <th>119.0</th>\n",
              "      <td>0.058824</td>\n",
              "    </tr>\n",
              "    <tr>\n",
              "      <th>120.0</th>\n",
              "      <td>0.000000</td>\n",
              "    </tr>\n",
              "  </tbody>\n",
              "</table>\n",
              "</div>\n",
              "      <button class=\"colab-df-convert\" onclick=\"convertToInteractive('df-af220e65-e39f-4115-93c9-7169fc7d8ecc')\"\n",
              "              title=\"Convert this dataframe to an interactive table.\"\n",
              "              style=\"display:none;\">\n",
              "        \n",
              "  <svg xmlns=\"http://www.w3.org/2000/svg\" height=\"24px\"viewBox=\"0 0 24 24\"\n",
              "       width=\"24px\">\n",
              "    <path d=\"M0 0h24v24H0V0z\" fill=\"none\"/>\n",
              "    <path d=\"M18.56 5.44l.94 2.06.94-2.06 2.06-.94-2.06-.94-.94-2.06-.94 2.06-2.06.94zm-11 1L8.5 8.5l.94-2.06 2.06-.94-2.06-.94L8.5 2.5l-.94 2.06-2.06.94zm10 10l.94 2.06.94-2.06 2.06-.94-2.06-.94-.94-2.06-.94 2.06-2.06.94z\"/><path d=\"M17.41 7.96l-1.37-1.37c-.4-.4-.92-.59-1.43-.59-.52 0-1.04.2-1.43.59L10.3 9.45l-7.72 7.72c-.78.78-.78 2.05 0 2.83L4 21.41c.39.39.9.59 1.41.59.51 0 1.02-.2 1.41-.59l7.78-7.78 2.81-2.81c.8-.78.8-2.07 0-2.86zM5.41 20L4 18.59l7.72-7.72 1.47 1.35L5.41 20z\"/>\n",
              "  </svg>\n",
              "      </button>\n",
              "      \n",
              "  <style>\n",
              "    .colab-df-container {\n",
              "      display:flex;\n",
              "      flex-wrap:wrap;\n",
              "      gap: 12px;\n",
              "    }\n",
              "\n",
              "    .colab-df-convert {\n",
              "      background-color: #E8F0FE;\n",
              "      border: none;\n",
              "      border-radius: 50%;\n",
              "      cursor: pointer;\n",
              "      display: none;\n",
              "      fill: #1967D2;\n",
              "      height: 32px;\n",
              "      padding: 0 0 0 0;\n",
              "      width: 32px;\n",
              "    }\n",
              "\n",
              "    .colab-df-convert:hover {\n",
              "      background-color: #E2EBFA;\n",
              "      box-shadow: 0px 1px 2px rgba(60, 64, 67, 0.3), 0px 1px 3px 1px rgba(60, 64, 67, 0.15);\n",
              "      fill: #174EA6;\n",
              "    }\n",
              "\n",
              "    [theme=dark] .colab-df-convert {\n",
              "      background-color: #3B4455;\n",
              "      fill: #D2E3FC;\n",
              "    }\n",
              "\n",
              "    [theme=dark] .colab-df-convert:hover {\n",
              "      background-color: #434B5C;\n",
              "      box-shadow: 0px 1px 3px 1px rgba(0, 0, 0, 0.15);\n",
              "      filter: drop-shadow(0px 1px 2px rgba(0, 0, 0, 0.3));\n",
              "      fill: #FFFFFF;\n",
              "    }\n",
              "  </style>\n",
              "\n",
              "      <script>\n",
              "        const buttonEl =\n",
              "          document.querySelector('#df-af220e65-e39f-4115-93c9-7169fc7d8ecc button.colab-df-convert');\n",
              "        buttonEl.style.display =\n",
              "          google.colab.kernel.accessAllowed ? 'block' : 'none';\n",
              "\n",
              "        async function convertToInteractive(key) {\n",
              "          const element = document.querySelector('#df-af220e65-e39f-4115-93c9-7169fc7d8ecc');\n",
              "          const dataTable =\n",
              "            await google.colab.kernel.invokeFunction('convertToInteractive',\n",
              "                                                     [key], {});\n",
              "          if (!dataTable) return;\n",
              "\n",
              "          const docLinkHtml = 'Like what you see? Visit the ' +\n",
              "            '<a target=\"_blank\" href=https://colab.research.google.com/notebooks/data_table.ipynb>data table notebook</a>'\n",
              "            + ' to learn more about interactive tables.';\n",
              "          element.innerHTML = '';\n",
              "          dataTable['output_type'] = 'display_data';\n",
              "          await google.colab.output.renderOutput(dataTable, element);\n",
              "          const docLink = document.createElement('div');\n",
              "          docLink.innerHTML = docLinkHtml;\n",
              "          element.appendChild(docLink);\n",
              "        }\n",
              "      </script>\n",
              "    </div>\n",
              "  </div>\n",
              "  "
            ]
          },
          "metadata": {},
          "execution_count": 40
        }
      ],
      "source": [
        "kmt.survival_function_"
      ]
    },
    {
      "cell_type": "code",
      "source": [
        "kmt.event_table"
      ],
      "metadata": {
        "colab": {
          "base_uri": "https://localhost:8080/",
          "height": 582
        },
        "id": "m3Yd_DD-om1a",
        "outputId": "6d625aea-e7bb-45e8-d761-b0fe4cbc80f6"
      },
      "id": "m3Yd_DD-om1a",
      "execution_count": 41,
      "outputs": [
        {
          "output_type": "execute_result",
          "data": {
            "text/plain": [
              "          removed  observed  censored  entrance  at_risk\n",
              "event_at                                                \n",
              "0.0             0         0         0        17       17\n",
              "85.0            1         1         0         0       17\n",
              "87.0            1         1         0         0       16\n",
              "90.0            1         1         0         0       15\n",
              "99.0            1         1         0         0       14\n",
              "103.0           1         1         0         0       13\n",
              "106.0           1         1         0         0       12\n",
              "108.0           2         2         0         0       11\n",
              "109.0           1         1         0         0        9\n",
              "111.0           1         1         0         0        8\n",
              "112.0           1         1         0         0        7\n",
              "115.0           1         1         0         0        6\n",
              "116.0           1         1         0         0        5\n",
              "118.0           1         1         0         0        4\n",
              "119.0           2         2         0         0        3\n",
              "120.0           1         1         0         0        1"
            ],
            "text/html": [
              "\n",
              "  <div id=\"df-24b3ad3e-7fd4-4995-857c-686a5e777ff3\">\n",
              "    <div class=\"colab-df-container\">\n",
              "      <div>\n",
              "<style scoped>\n",
              "    .dataframe tbody tr th:only-of-type {\n",
              "        vertical-align: middle;\n",
              "    }\n",
              "\n",
              "    .dataframe tbody tr th {\n",
              "        vertical-align: top;\n",
              "    }\n",
              "\n",
              "    .dataframe thead th {\n",
              "        text-align: right;\n",
              "    }\n",
              "</style>\n",
              "<table border=\"1\" class=\"dataframe\">\n",
              "  <thead>\n",
              "    <tr style=\"text-align: right;\">\n",
              "      <th></th>\n",
              "      <th>removed</th>\n",
              "      <th>observed</th>\n",
              "      <th>censored</th>\n",
              "      <th>entrance</th>\n",
              "      <th>at_risk</th>\n",
              "    </tr>\n",
              "    <tr>\n",
              "      <th>event_at</th>\n",
              "      <th></th>\n",
              "      <th></th>\n",
              "      <th></th>\n",
              "      <th></th>\n",
              "      <th></th>\n",
              "    </tr>\n",
              "  </thead>\n",
              "  <tbody>\n",
              "    <tr>\n",
              "      <th>0.0</th>\n",
              "      <td>0</td>\n",
              "      <td>0</td>\n",
              "      <td>0</td>\n",
              "      <td>17</td>\n",
              "      <td>17</td>\n",
              "    </tr>\n",
              "    <tr>\n",
              "      <th>85.0</th>\n",
              "      <td>1</td>\n",
              "      <td>1</td>\n",
              "      <td>0</td>\n",
              "      <td>0</td>\n",
              "      <td>17</td>\n",
              "    </tr>\n",
              "    <tr>\n",
              "      <th>87.0</th>\n",
              "      <td>1</td>\n",
              "      <td>1</td>\n",
              "      <td>0</td>\n",
              "      <td>0</td>\n",
              "      <td>16</td>\n",
              "    </tr>\n",
              "    <tr>\n",
              "      <th>90.0</th>\n",
              "      <td>1</td>\n",
              "      <td>1</td>\n",
              "      <td>0</td>\n",
              "      <td>0</td>\n",
              "      <td>15</td>\n",
              "    </tr>\n",
              "    <tr>\n",
              "      <th>99.0</th>\n",
              "      <td>1</td>\n",
              "      <td>1</td>\n",
              "      <td>0</td>\n",
              "      <td>0</td>\n",
              "      <td>14</td>\n",
              "    </tr>\n",
              "    <tr>\n",
              "      <th>103.0</th>\n",
              "      <td>1</td>\n",
              "      <td>1</td>\n",
              "      <td>0</td>\n",
              "      <td>0</td>\n",
              "      <td>13</td>\n",
              "    </tr>\n",
              "    <tr>\n",
              "      <th>106.0</th>\n",
              "      <td>1</td>\n",
              "      <td>1</td>\n",
              "      <td>0</td>\n",
              "      <td>0</td>\n",
              "      <td>12</td>\n",
              "    </tr>\n",
              "    <tr>\n",
              "      <th>108.0</th>\n",
              "      <td>2</td>\n",
              "      <td>2</td>\n",
              "      <td>0</td>\n",
              "      <td>0</td>\n",
              "      <td>11</td>\n",
              "    </tr>\n",
              "    <tr>\n",
              "      <th>109.0</th>\n",
              "      <td>1</td>\n",
              "      <td>1</td>\n",
              "      <td>0</td>\n",
              "      <td>0</td>\n",
              "      <td>9</td>\n",
              "    </tr>\n",
              "    <tr>\n",
              "      <th>111.0</th>\n",
              "      <td>1</td>\n",
              "      <td>1</td>\n",
              "      <td>0</td>\n",
              "      <td>0</td>\n",
              "      <td>8</td>\n",
              "    </tr>\n",
              "    <tr>\n",
              "      <th>112.0</th>\n",
              "      <td>1</td>\n",
              "      <td>1</td>\n",
              "      <td>0</td>\n",
              "      <td>0</td>\n",
              "      <td>7</td>\n",
              "    </tr>\n",
              "    <tr>\n",
              "      <th>115.0</th>\n",
              "      <td>1</td>\n",
              "      <td>1</td>\n",
              "      <td>0</td>\n",
              "      <td>0</td>\n",
              "      <td>6</td>\n",
              "    </tr>\n",
              "    <tr>\n",
              "      <th>116.0</th>\n",
              "      <td>1</td>\n",
              "      <td>1</td>\n",
              "      <td>0</td>\n",
              "      <td>0</td>\n",
              "      <td>5</td>\n",
              "    </tr>\n",
              "    <tr>\n",
              "      <th>118.0</th>\n",
              "      <td>1</td>\n",
              "      <td>1</td>\n",
              "      <td>0</td>\n",
              "      <td>0</td>\n",
              "      <td>4</td>\n",
              "    </tr>\n",
              "    <tr>\n",
              "      <th>119.0</th>\n",
              "      <td>2</td>\n",
              "      <td>2</td>\n",
              "      <td>0</td>\n",
              "      <td>0</td>\n",
              "      <td>3</td>\n",
              "    </tr>\n",
              "    <tr>\n",
              "      <th>120.0</th>\n",
              "      <td>1</td>\n",
              "      <td>1</td>\n",
              "      <td>0</td>\n",
              "      <td>0</td>\n",
              "      <td>1</td>\n",
              "    </tr>\n",
              "  </tbody>\n",
              "</table>\n",
              "</div>\n",
              "      <button class=\"colab-df-convert\" onclick=\"convertToInteractive('df-24b3ad3e-7fd4-4995-857c-686a5e777ff3')\"\n",
              "              title=\"Convert this dataframe to an interactive table.\"\n",
              "              style=\"display:none;\">\n",
              "        \n",
              "  <svg xmlns=\"http://www.w3.org/2000/svg\" height=\"24px\"viewBox=\"0 0 24 24\"\n",
              "       width=\"24px\">\n",
              "    <path d=\"M0 0h24v24H0V0z\" fill=\"none\"/>\n",
              "    <path d=\"M18.56 5.44l.94 2.06.94-2.06 2.06-.94-2.06-.94-.94-2.06-.94 2.06-2.06.94zm-11 1L8.5 8.5l.94-2.06 2.06-.94-2.06-.94L8.5 2.5l-.94 2.06-2.06.94zm10 10l.94 2.06.94-2.06 2.06-.94-2.06-.94-.94-2.06-.94 2.06-2.06.94z\"/><path d=\"M17.41 7.96l-1.37-1.37c-.4-.4-.92-.59-1.43-.59-.52 0-1.04.2-1.43.59L10.3 9.45l-7.72 7.72c-.78.78-.78 2.05 0 2.83L4 21.41c.39.39.9.59 1.41.59.51 0 1.02-.2 1.41-.59l7.78-7.78 2.81-2.81c.8-.78.8-2.07 0-2.86zM5.41 20L4 18.59l7.72-7.72 1.47 1.35L5.41 20z\"/>\n",
              "  </svg>\n",
              "      </button>\n",
              "      \n",
              "  <style>\n",
              "    .colab-df-container {\n",
              "      display:flex;\n",
              "      flex-wrap:wrap;\n",
              "      gap: 12px;\n",
              "    }\n",
              "\n",
              "    .colab-df-convert {\n",
              "      background-color: #E8F0FE;\n",
              "      border: none;\n",
              "      border-radius: 50%;\n",
              "      cursor: pointer;\n",
              "      display: none;\n",
              "      fill: #1967D2;\n",
              "      height: 32px;\n",
              "      padding: 0 0 0 0;\n",
              "      width: 32px;\n",
              "    }\n",
              "\n",
              "    .colab-df-convert:hover {\n",
              "      background-color: #E2EBFA;\n",
              "      box-shadow: 0px 1px 2px rgba(60, 64, 67, 0.3), 0px 1px 3px 1px rgba(60, 64, 67, 0.15);\n",
              "      fill: #174EA6;\n",
              "    }\n",
              "\n",
              "    [theme=dark] .colab-df-convert {\n",
              "      background-color: #3B4455;\n",
              "      fill: #D2E3FC;\n",
              "    }\n",
              "\n",
              "    [theme=dark] .colab-df-convert:hover {\n",
              "      background-color: #434B5C;\n",
              "      box-shadow: 0px 1px 3px 1px rgba(0, 0, 0, 0.15);\n",
              "      filter: drop-shadow(0px 1px 2px rgba(0, 0, 0, 0.3));\n",
              "      fill: #FFFFFF;\n",
              "    }\n",
              "  </style>\n",
              "\n",
              "      <script>\n",
              "        const buttonEl =\n",
              "          document.querySelector('#df-24b3ad3e-7fd4-4995-857c-686a5e777ff3 button.colab-df-convert');\n",
              "        buttonEl.style.display =\n",
              "          google.colab.kernel.accessAllowed ? 'block' : 'none';\n",
              "\n",
              "        async function convertToInteractive(key) {\n",
              "          const element = document.querySelector('#df-24b3ad3e-7fd4-4995-857c-686a5e777ff3');\n",
              "          const dataTable =\n",
              "            await google.colab.kernel.invokeFunction('convertToInteractive',\n",
              "                                                     [key], {});\n",
              "          if (!dataTable) return;\n",
              "\n",
              "          const docLinkHtml = 'Like what you see? Visit the ' +\n",
              "            '<a target=\"_blank\" href=https://colab.research.google.com/notebooks/data_table.ipynb>data table notebook</a>'\n",
              "            + ' to learn more about interactive tables.';\n",
              "          element.innerHTML = '';\n",
              "          dataTable['output_type'] = 'display_data';\n",
              "          await google.colab.output.renderOutput(dataTable, element);\n",
              "          const docLink = document.createElement('div');\n",
              "          docLink.innerHTML = docLinkHtml;\n",
              "          element.appendChild(docLink);\n",
              "        }\n",
              "      </script>\n",
              "    </div>\n",
              "  </div>\n",
              "  "
            ]
          },
          "metadata": {},
          "execution_count": 41
        }
      ]
    },
    {
      "cell_type": "code",
      "execution_count": 45,
      "id": "006c8fd3",
      "metadata": {
        "colab": {
          "base_uri": "https://localhost:8080/",
          "height": 310
        },
        "id": "006c8fd3",
        "outputId": "610012fd-6dd2-4aeb-8b92-d6d2e07394da"
      },
      "outputs": [
        {
          "output_type": "display_data",
          "data": {
            "text/plain": [
              "<Figure size 432x288 with 1 Axes>"
            ],
            "image/png": "[encoded data removed]"
          },
          "metadata": {
            "needs_background": "light"
          }
        }
      ],
      "source": [
        "kmt.plot_survival_function(label = 'Entrega de examen', color = 'sandybrown')\n",
        "plt.title('Función de supercivencia de entregar del examen, \\n Intervalos al 95%')\n",
        "plt.ylabel('$S(t)$')\n",
        "plt.xlabel('Minutos')\n",
        "plt.show()"
      ]
    },
    {
      "cell_type": "markdown",
      "id": "9b972fb4",
      "metadata": {
        "id": "9b972fb4"
      },
      "source": [
        "### e) Realice  un  gráfico  donde  muestre  la  función  de  supervivencia de  Kaplan-Meier de los alumnos (m) y de las alumnas (f) con sus respectivos intervalos de confianza. Y comente con base en la gráfica si es posible que el profesor tenga razón respecto a que las alumnas responden más rápido el examen."
      ]
    },
    {
      "cell_type": "code",
      "execution_count": 44,
      "id": "7d3b3772",
      "metadata": {
        "id": "7d3b3772"
      },
      "outputs": [],
      "source": [
        "kmm = KaplanMeierFitter().fit(dm['tiempo'], dm['examen'])\n",
        "kmf = KaplanMeierFitter().fit(df['tiempo'], df['examen'])"
      ]
    },
    {
      "cell_type": "code",
      "execution_count": 46,
      "id": "60cab837",
      "metadata": {
        "colab": {
          "base_uri": "https://localhost:8080/",
          "height": 310
        },
        "id": "60cab837",
        "outputId": "24f96da1-beb8-4f75-c3b0-da46875c60da"
      },
      "outputs": [
        {
          "output_type": "display_data",
          "data": {
            "text/plain": [
              "<Figure size 432x288 with 1 Axes>"
            ],
            "image/png": "[encoded data removed]"
          },
          "metadata": {
            "needs_background": "light"
          }
        }
      ],
      "source": [
        "kmm.plot_survival_function(label = 'Alumnos', color = 'skyblue')\n",
        "kmf.plot_survival_function(label = 'Alumnas', color = 'pink')\n",
        "plt.title('Función de supervivencia de entrega del examen, \\n Intervalos al 95%')\n",
        "plt.ylabel('$S(t)$')\n",
        "plt.xlabel('Minutos')\n",
        "plt.show()"
      ]
    },
    {
      "cell_type": "markdown",
      "id": "5d1b0533",
      "metadata": {
        "id": "5d1b0533"
      },
      "source": [
        "El  profesor no esta en lo correcto, ya que en la grafica anterior se puede observar que la funcion de supervivencia de las alumnas esta un poco mas a la derecha que la de los alumnos, lo cual significa que entregan su examen un poco despues."
      ]
    },
    {
      "cell_type": "markdown",
      "id": "07759ebc",
      "metadata": {
        "id": "07759ebc"
      },
      "source": [
        "### f) Realice  el  log  ranktest  para  probar  si  las  funciones  de  supervivencia  de alumnos  y  alumnas  para  responder  el  examen  son  iguales.  Comente  el resultado de la prueba de hipótesis y diga si el profesor tiene razón o no "
      ]
    },
    {
      "cell_type": "code",
      "execution_count": 47,
      "id": "b31b4555",
      "metadata": {
        "id": "b31b4555"
      },
      "outputs": [],
      "source": [
        "from lifelines.statistics import logrank_test"
      ]
    },
    {
      "cell_type": "code",
      "execution_count": 48,
      "id": "9c850f54",
      "metadata": {
        "id": "9c850f54"
      },
      "outputs": [],
      "source": [
        "lrt = logrank_test(df['tiempo'],dm['tiempo'],\n",
        "                       df['examen'],dm['examen'])"
      ]
    },
    {
      "cell_type": "code",
      "execution_count": 49,
      "id": "cc7d438e",
      "metadata": {
        "colab": {
          "base_uri": "https://localhost:8080/",
          "height": 206
        },
        "id": "cc7d438e",
        "outputId": "1acbae8f-e517-4fcf-d330-2cd245ff4380"
      },
      "outputs": [
        {
          "output_type": "display_data",
          "data": {
            "text/plain": [
              "<lifelines.StatisticalResult: logrank_test>\n",
              "               t_0 = -1\n",
              " null_distribution = chi squared\n",
              "degrees_of_freedom = 1\n",
              "         test_name = logrank_test\n",
              "\n",
              "---\n",
              " test_statistic    p  -log2(p)\n",
              "           0.15 0.69      0.53"
            ],
            "text/html": [
              "<div>\n",
              "<style scoped>\n",
              "    .dataframe tbody tr th:only-of-type {\n",
              "        vertical-align: middle;\n",
              "    }\n",
              "\n",
              "    .dataframe tbody tr th {\n",
              "        vertical-align: top;\n",
              "    }\n",
              "\n",
              "    .dataframe thead th {\n",
              "        text-align: right;\n",
              "    }\n",
              "</style>\n",
              "<table border=\"1\" class=\"dataframe\">\n",
              "  <tbody>\n",
              "    <tr>\n",
              "      <th>t_0</th>\n",
              "      <td>-1</td>\n",
              "    </tr>\n",
              "    <tr>\n",
              "      <th>null_distribution</th>\n",
              "      <td>chi squared</td>\n",
              "    </tr>\n",
              "    <tr>\n",
              "      <th>degrees_of_freedom</th>\n",
              "      <td>1</td>\n",
              "    </tr>\n",
              "    <tr>\n",
              "      <th>test_name</th>\n",
              "      <td>logrank_test</td>\n",
              "    </tr>\n",
              "  </tbody>\n",
              "</table>\n",
              "</div><table border=\"1\" class=\"dataframe\">\n",
              "  <thead>\n",
              "    <tr style=\"text-align: right;\">\n",
              "      <th></th>\n",
              "      <th>test_statistic</th>\n",
              "      <th>p</th>\n",
              "      <th>-log2(p)</th>\n",
              "    </tr>\n",
              "  </thead>\n",
              "  <tbody>\n",
              "    <tr>\n",
              "      <th>0</th>\n",
              "      <td>0.15</td>\n",
              "      <td>0.69</td>\n",
              "      <td>0.53</td>\n",
              "    </tr>\n",
              "  </tbody>\n",
              "</table>"
            ],
            "text/latex": "\\begin{tabular}{lrrr}\n & test_statistic & p & -log2(p) \\\\\n0 & 0.15 & 0.69 & 0.53 \\\\\n\\end{tabular}\n"
          },
          "metadata": {}
        }
      ],
      "source": [
        "lrt.print_summary()"
      ]
    },
    {
      "cell_type": "markdown",
      "id": "1d6aab83",
      "metadata": {
        "id": "1d6aab83"
      },
      "source": [
        "$H_0:$ El tiempo de entrega de examen de los alumnos y las alumnas es igual.\n",
        "\n",
        "$H_a:$ El tiempo de entrega  de examen es distinto entre alumnos y alumnas."
      ]
    },
    {
      "cell_type": "markdown",
      "id": "48072f76",
      "metadata": {
        "id": "48072f76"
      },
      "source": [
        "Si p-value < $\\alpha$, rechazamos $H_0$\n",
        "\n",
        "$p$=0.69 > $\\alpha$=0.05\n",
        "\n",
        "Por lo tanto, con un 95% de confianza no rechazamos $H_0$, lo que significa que los hombres y las mujeres terminan el examen al mismo tiempo, o sea que su distribucion es igual."
      ]
    },
    {
      "cell_type": "markdown",
      "id": "81a408e8",
      "metadata": {
        "id": "81a408e8"
      },
      "source": [
        "### g) El profesor tambien sospecha que quienes entregan el examen más rápido es porque  no  estudiaron,  por  tanto no  saben  que  responder y entregan  el examen casi inmediatamente. Estime  un  modelo  de  cox de  riesgos  proporcionales  donde  utilice  como variables  explicativas  el  género  y  la  calificación  obtenida,  para  explicar  la función de riesgo de entregar el examen."
      ]
    },
    {
      "cell_type": "code",
      "execution_count": 51,
      "id": "09e3f7a0",
      "metadata": {
        "id": "09e3f7a0"
      },
      "outputs": [],
      "source": [
        "from lifelines import CoxPHFitter"
      ]
    },
    {
      "cell_type": "code",
      "execution_count": 71,
      "id": "9c5850d1",
      "metadata": {
        "colab": {
          "base_uri": "https://localhost:8080/",
          "height": 537
        },
        "id": "9c5850d1",
        "outputId": "feea5b45-8ce3-45b8-ff5a-8e944c674e87"
      },
      "outputs": [
        {
          "output_type": "display_data",
          "data": {
            "text/plain": [
              "<lifelines.CoxPHFitter: fitted with 17 total observations, 0 right-censored observations>\n",
              "             duration col = 'tiempo'\n",
              "                event col = 'examen'\n",
              "      baseline estimation = breslow\n",
              "   number of observations = 17\n",
              "number of events observed = 17\n",
              "   partial log-likelihood = -33.31\n",
              "         time fit was run = 2023-03-16 04:57:15 UTC\n",
              "\n",
              "---\n",
              "               coef  exp(coef)   se(coef)   coef lower 95%   coef upper 95%  exp(coef) lower 95%  exp(coef) upper 95%\n",
              "covariate                                                                                                            \n",
              "id             0.10       1.10       0.24            -0.36             0.56                 0.70                 1.75\n",
              "calificación   0.06       1.06       0.13            -0.19             0.30                 0.83                 1.36\n",
              "f             -0.50       0.60       0.80            -2.08             1.07                 0.13                 2.91\n",
              "\n",
              "               cmp to     z    p   -log2(p)\n",
              "covariate                                  \n",
              "id               0.00  0.42 0.67       0.57\n",
              "calificación     0.00  0.47 0.64       0.64\n",
              "f                0.00 -0.63 0.53       0.92\n",
              "---\n",
              "Concordance = 0.51\n",
              "Partial AIC = 72.61\n",
              "log-likelihood ratio test = 0.40 on 3 df\n",
              "-log2(p) of ll-ratio test = 0.09"
            ],
            "text/html": [
              "<div>\n",
              "<style scoped>\n",
              "    .dataframe tbody tr th:only-of-type {\n",
              "        vertical-align: middle;\n",
              "    }\n",
              "\n",
              "    .dataframe tbody tr th {\n",
              "        vertical-align: top;\n",
              "    }\n",
              "\n",
              "    .dataframe thead th {\n",
              "        text-align: right;\n",
              "    }\n",
              "</style>\n",
              "<table border=\"1\" class=\"dataframe\">\n",
              "  <tbody>\n",
              "    <tr>\n",
              "      <th>model</th>\n",
              "      <td>lifelines.CoxPHFitter</td>\n",
              "    </tr>\n",
              "    <tr>\n",
              "      <th>duration col</th>\n",
              "      <td>'tiempo'</td>\n",
              "    </tr>\n",
              "    <tr>\n",
              "      <th>event col</th>\n",
              "      <td>'examen'</td>\n",
              "    </tr>\n",
              "    <tr>\n",
              "      <th>baseline estimation</th>\n",
              "      <td>breslow</td>\n",
              "    </tr>\n",
              "    <tr>\n",
              "      <th>number of observations</th>\n",
              "      <td>17</td>\n",
              "    </tr>\n",
              "    <tr>\n",
              "      <th>number of events observed</th>\n",
              "      <td>17</td>\n",
              "    </tr>\n",
              "    <tr>\n",
              "      <th>partial log-likelihood</th>\n",
              "      <td>-33.31</td>\n",
              "    </tr>\n",
              "    <tr>\n",
              "      <th>time fit was run</th>\n",
              "      <td>2023-03-16 04:57:15 UTC</td>\n",
              "    </tr>\n",
              "  </tbody>\n",
              "</table>\n",
              "</div><table border=\"1\" class=\"dataframe\">\n",
              "  <thead>\n",
              "    <tr style=\"text-align: right;\">\n",
              "      <th style=\"min-width: 12px;\"></th>\n",
              "      <th style=\"min-width: 12px;\">coef</th>\n",
              "      <th style=\"min-width: 12px;\">exp(coef)</th>\n",
              "      <th style=\"min-width: 12px;\">se(coef)</th>\n",
              "      <th style=\"min-width: 12px;\">coef lower 95%</th>\n",
              "      <th style=\"min-width: 12px;\">coef upper 95%</th>\n",
              "      <th style=\"min-width: 12px;\">exp(coef) lower 95%</th>\n",
              "      <th style=\"min-width: 12px;\">exp(coef) upper 95%</th>\n",
              "      <th style=\"min-width: 12px;\">cmp to</th>\n",
              "      <th style=\"min-width: 12px;\">z</th>\n",
              "      <th style=\"min-width: 12px;\">p</th>\n",
              "      <th style=\"min-width: 12px;\">-log2(p)</th>\n",
              "    </tr>\n",
              "  </thead>\n",
              "  <tbody>\n",
              "    <tr>\n",
              "      <th>id</th>\n",
              "      <td>0.10</td>\n",
              "      <td>1.10</td>\n",
              "      <td>0.24</td>\n",
              "      <td>-0.36</td>\n",
              "      <td>0.56</td>\n",
              "      <td>0.70</td>\n",
              "      <td>1.75</td>\n",
              "      <td>0.00</td>\n",
              "      <td>0.42</td>\n",
              "      <td>0.67</td>\n",
              "      <td>0.57</td>\n",
              "    </tr>\n",
              "    <tr>\n",
              "      <th>calificación</th>\n",
              "      <td>0.06</td>\n",
              "      <td>1.06</td>\n",
              "      <td>0.13</td>\n",
              "      <td>-0.19</td>\n",
              "      <td>0.30</td>\n",
              "      <td>0.83</td>\n",
              "      <td>1.36</td>\n",
              "      <td>0.00</td>\n",
              "      <td>0.47</td>\n",
              "      <td>0.64</td>\n",
              "      <td>0.64</td>\n",
              "    </tr>\n",
              "    <tr>\n",
              "      <th>f</th>\n",
              "      <td>-0.50</td>\n",
              "      <td>0.60</td>\n",
              "      <td>0.80</td>\n",
              "      <td>-2.08</td>\n",
              "      <td>1.07</td>\n",
              "      <td>0.13</td>\n",
              "      <td>2.91</td>\n",
              "      <td>0.00</td>\n",
              "      <td>-0.63</td>\n",
              "      <td>0.53</td>\n",
              "      <td>0.92</td>\n",
              "    </tr>\n",
              "  </tbody>\n",
              "</table><br><div>\n",
              "<style scoped>\n",
              "    .dataframe tbody tr th:only-of-type {\n",
              "        vertical-align: middle;\n",
              "    }\n",
              "\n",
              "    .dataframe tbody tr th {\n",
              "        vertical-align: top;\n",
              "    }\n",
              "\n",
              "    .dataframe thead th {\n",
              "        text-align: right;\n",
              "    }\n",
              "</style>\n",
              "<table border=\"1\" class=\"dataframe\">\n",
              "  <tbody>\n",
              "    <tr>\n",
              "      <th>Concordance</th>\n",
              "      <td>0.51</td>\n",
              "    </tr>\n",
              "    <tr>\n",
              "      <th>Partial AIC</th>\n",
              "      <td>72.61</td>\n",
              "    </tr>\n",
              "    <tr>\n",
              "      <th>log-likelihood ratio test</th>\n",
              "      <td>0.40 on 3 df</td>\n",
              "    </tr>\n",
              "    <tr>\n",
              "      <th>-log2(p) of ll-ratio test</th>\n",
              "      <td>0.09</td>\n",
              "    </tr>\n",
              "  </tbody>\n",
              "</table>\n",
              "</div>"
            ],
            "text/latex": "\\begin{tabular}{lrrrrrrrrrrr}\n & coef & exp(coef) & se(coef) & coef lower 95% & coef upper 95% & exp(coef) lower 95% & exp(coef) upper 95% & cmp to & z & p & -log2(p) \\\\\ncovariate &  &  &  &  &  &  &  &  &  &  &  \\\\\nid & 0.10 & 1.10 & 0.24 & -0.36 & 0.56 & 0.70 & 1.75 & 0.00 & 0.42 & 0.67 & 0.57 \\\\\ncalificación & 0.06 & 1.06 & 0.13 & -0.19 & 0.30 & 0.83 & 1.36 & 0.00 & 0.47 & 0.64 & 0.64 \\\\\nf & -0.50 & 0.60 & 0.80 & -2.08 & 1.07 & 0.13 & 2.91 & 0.00 & -0.63 & 0.53 & 0.92 \\\\\n\\end{tabular}\n"
          },
          "metadata": {}
        }
      ],
      "source": [
        "cphf = CoxPHFitter().fit(datos,'tiempo','examen')\n",
        "cphf.print_summary()"
      ]
    },
    {
      "cell_type": "markdown",
      "source": [
        "$H_0:$ Quienes entregan el examen mas rapido tienen menor calificacion, ya que no estudiaron y por ende no saben que responder y entregan el examen casi inmediatamente.\n",
        "\n",
        "$H_a:$ Quienes entregan el examen mas rapido tienen mayor calificacion."
      ],
      "metadata": {
        "id": "JFdmKFFozTiv"
      },
      "id": "JFdmKFFozTiv"
    },
    {
      "cell_type": "markdown",
      "source": [
        "Si coef<0  ▶  1-exp(coef)\n",
        "\n",
        "Si coef>0  ▶  exp(coef)-1\n",
        "\n",
        "Si p-value < $\\alpha$, rechazamos $H_0$\n",
        "\n",
        "$p$=0.06 > $\\alpha$=0.05\n",
        "\n",
        "No rechazamos $H_0$"
      ],
      "metadata": {
        "id": "spWY0vamzZDb"
      },
      "id": "spWY0vamzZDb"
    },
    {
      "cell_type": "markdown",
      "source": [
        "\n",
        "Por lo tanto, quienes se tardan mas en entregar el examen tienen la misma probabilidad de tener una alta calificacion que los que entregan el examen mas rapido."
      ],
      "metadata": {
        "id": "oHd-ZwP5z7Je"
      },
      "id": "oHd-ZwP5z7Je"
    },
    {
      "cell_type": "markdown",
      "source": [
        "### h) Interprete los coeficientes de género y calificación obtenidos por el modelo de cox, recuerde señalar: 1) si el coeficiente es significativo (se rechaza Ho), en caso de ser significativo señala si aumentan el riesgo de entregar el examen, y el tamaño del efecto. Recuerde añadir cph.plot() para ayudarse con la interpretación"
      ],
      "metadata": {
        "id": "wtIBL9ZA2qss"
      },
      "id": "wtIBL9ZA2qss"
    },
    {
      "cell_type": "code",
      "source": [
        "cphf.plot();"
      ],
      "metadata": {
        "colab": {
          "base_uri": "https://localhost:8080/",
          "height": 279
        },
        "id": "JgiYbeAJ4Z8-",
        "outputId": "999b8901-61bb-4ee9-a1bf-69de3d6051c2"
      },
      "id": "JgiYbeAJ4Z8-",
      "execution_count": 79,
      "outputs": [
        {
          "output_type": "display_data",
          "data": {
            "text/plain": [
              "<Figure size 432x288 with 1 Axes>"
            ],
            "image/png": "[encoded data removed]"
          },
          "metadata": {
            "needs_background": "light"
          }
        }
      ]
    },
    {
      "cell_type": "code",
      "source": [
        "cphf.plot_partial_effects_on_outcome(covariates='calificación', values=[50,60,70,80, 90, 100]);\n",
        "plt.title('Función de calificacion del examen')\n",
        "plt.ylabel('$S(t)$')\n",
        "plt.xlabel('Minutos')\n",
        "plt.show()"
      ],
      "metadata": {
        "colab": {
          "base_uri": "https://localhost:8080/",
          "height": 295
        },
        "id": "TOwduf4y40FR",
        "outputId": "f8641fa2-09cb-4d7a-8cab-86e998b1ca03"
      },
      "id": "TOwduf4y40FR",
      "execution_count": 91,
      "outputs": [
        {
          "output_type": "display_data",
          "data": {
            "text/plain": [
              "<Figure size 432x288 with 1 Axes>"
            ],
            "image/png": "[encoded data removed]"
          },
          "metadata": {
            "needs_background": "light"
          }
        }
      ]
    },
    {
      "cell_type": "markdown",
      "source": [
        "#### Para la variable **Calificacion**\n",
        "\n",
        "Si coef<0  ▶  1-exp(coef)\n",
        "\n",
        "Si coef>0  ▶  exp(coef)-1\n",
        "\n",
        "Si p-value < $\\alpha$, rechazamos $H_0$\n",
        "\n",
        "$p$=0.06 > $\\alpha$=0.05\n",
        "\n",
        "No rechazamos $H_0$\n",
        "\n",
        "Por lo tanto, la calificacion no tiene relacion con si se entrega el examen o no."
      ],
      "metadata": {
        "id": "erfMo2ux3vBn"
      },
      "id": "erfMo2ux3vBn"
    },
    {
      "cell_type": "code",
      "source": [
        "cphf.plot_partial_effects_on_outcome(covariates='f', values=[0,1]);\n",
        "plt.title('Función con respecto al genero \\n  f=0=alumno, f=1=alumna')\n",
        "plt.ylabel('$S(t)$')\n",
        "plt.xlabel('Minutos')\n",
        "plt.show()"
      ],
      "metadata": {
        "colab": {
          "base_uri": "https://localhost:8080/",
          "height": 310
        },
        "id": "D-syJv6F97Qz",
        "outputId": "bc85039d-f9ed-46cf-eb13-d98cc6745ebb"
      },
      "id": "D-syJv6F97Qz",
      "execution_count": 92,
      "outputs": [
        {
          "output_type": "display_data",
          "data": {
            "text/plain": [
              "<Figure size 432x288 with 1 Axes>"
            ],
            "image/png": "[encoded data removed]"
          },
          "metadata": {
            "needs_background": "light"
          }
        }
      ]
    },
    {
      "cell_type": "markdown",
      "source": [
        "#### Para la variable **Genero**\n",
        "\n",
        "Si coef<0  ▶  1-exp(coef)\n",
        "\n",
        "Si coef>0  ▶  exp(coef)-1\n",
        "\n",
        "Si p-value < $\\alpha$, rechazamos $H_0$\n",
        "\n",
        "$p$=-0.5 < $\\alpha$=0.05\n",
        "\n",
        "coef = -0.5 < 0\n",
        "\n",
        "exp(coef) = 0.6\n",
        "\n",
        "1-exp(coef) = 1-0.6 = 0.4\n",
        "\n",
        "Rechazamos $H_0$\n",
        "\n",
        "Por lo tanto, ser mujer disminuye el riesgo de entregar el examen en un 4%."
      ],
      "metadata": {
        "id": "MX3SyJWN3vT1"
      },
      "id": "MX3SyJWN3vT1"
    },
    {
      "cell_type": "markdown",
      "source": [
        "### i) Utilice cph.plot_partial_effects_on_outcome(covariates='variable', values=[0,1]) para estimar las funciones de supervivencia de alumnos y alumnas de acuerdo con el modelo de cox ¿obtiene resultados similares al inciso c, es decir, coincide con las funciones de supervivencia de Kaplan\u0002Meier?"
      ],
      "metadata": {
        "id": "8rU45HV-9aYP"
      },
      "id": "8rU45HV-9aYP"
    },
    {
      "cell_type": "code",
      "source": [
        "cphf.plot_partial_effects_on_outcome(covariates='f', values=[0,1]);\n",
        "plt.title('Función de supervivencia de entregar el examen con respecto al genero \\n  f=0=alumno, f=1=alumna')\n",
        "plt.ylabel('$S(t)$')\n",
        "plt.xlabel('Minutos')\n",
        "plt.xlim (80 , 120)\n",
        "plt.ylim (0 , 1)\n",
        "plt.show()"
      ],
      "metadata": {
        "colab": {
          "base_uri": "https://localhost:8080/",
          "height": 310
        },
        "id": "1vAXnaRcyldD",
        "outputId": "dcb0cf85-c8b8-484f-c4ac-fe76e282c065"
      },
      "id": "1vAXnaRcyldD",
      "execution_count": 99,
      "outputs": [
        {
          "output_type": "display_data",
          "data": {
            "text/plain": [
              "<Figure size 432x288 with 1 Axes>"
            ],
            "image/png": "[encoded data removed]"
          },
          "metadata": {
            "needs_background": "light"
          }
        }
      ]
    },
    {
      "cell_type": "code",
      "source": [
        "kmm.plot_survival_function(label = 'Alumnos', color = 'darkblue')\n",
        "kmf.plot_survival_function(label = 'Alumnas', color = 'gold')\n",
        "plt.title('Función de supervivencia de Kaplan-Meier de entrega del examen, \\n Intervalos al 95%')\n",
        "plt.ylabel('$S(t)$')\n",
        "plt.xlabel('Minutos')\n",
        "plt.xlim (80 , 120)\n",
        "plt.show()"
      ],
      "metadata": {
        "colab": {
          "base_uri": "https://localhost:8080/",
          "height": 310
        },
        "id": "oFk7ipnl-qKm",
        "outputId": "0a4bd33f-aeed-4c55-86c9-9d093f4c54f9"
      },
      "id": "oFk7ipnl-qKm",
      "execution_count": 97,
      "outputs": [
        {
          "output_type": "display_data",
          "data": {
            "text/plain": [
              "<Figure size 432x288 with 1 Axes>"
            ],
            "image/png": "[encoded data removed]"
          },
          "metadata": {
            "needs_background": "light"
          }
        }
      ]
    },
    {
      "cell_type": "markdown",
      "source": [
        "Las dos graficas se parecen muchisimo, aunque cabe recalcar que si hay algunas diferencias, aunque no tan abismales como para decir que no coinciden."
      ],
      "metadata": {
        "id": "juFBg4BsAksS"
      },
      "id": "juFBg4BsAksS"
    },
    {
      "cell_type": "markdown",
      "source": [
        "### j) Por último, con base en la interpretación del modelo de cox y la significancia de los coeficientes, comente si el profesor tiene razón al señalar que las alumnas responden en menor tiempo el examen, y si el profesor tambien tiene razón al señalar que los que entregan el examen rápido no estudiaron y por tanto obtienen menores calificación"
      ],
      "metadata": {
        "id": "ugAvCMK5BHWq"
      },
      "id": "ugAvCMK5BHWq"
    },
    {
      "cell_type": "markdown",
      "source": [
        "El profesor se ha equivocado en los dos asuntos, ya que pudimos notar que las mujeres son un poco mas lentas a la hora de entregar el examen, y que el tiempo en entregar el examen no significa nada en cuanto a la calificacion obtenida."
      ],
      "metadata": {
        "id": "3aqaRrr0BQ91"
      },
      "id": "3aqaRrr0BQ91"
    }
  ],
  "metadata": {
    "kernelspec": {
      "display_name": "Python 3 (ipykernel)",
      "language": "python",
      "name": "python3"
    },
    "language_info": {
      "codemirror_mode": {
        "name": "ipython",
        "version": 3
      },
      "file_extension": ".py",
      "mimetype": "text/x-python",
      "name": "python",
      "nbconvert_exporter": "python",
      "pygments_lexer": "ipython3",
      "version": "3.9.13"
    },
    "colab": {
      "provenance": [],
      "include_colab_link": true
    }
  },
  "nbformat": 4,
  "nbformat_minor": 5
}