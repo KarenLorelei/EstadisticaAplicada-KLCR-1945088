{
 "cells": [
  {
   "cell_type": "markdown",
   "id": "9fe0f348",
   "metadata": {},
   "source": [
    "# Variables de tipo fecha/tiempo en python"
   ]
  },
  {
   "cell_type": "markdown",
   "id": "22629e54",
   "metadata": {},
   "source": [
    "**Estadística Aplicada**\n",
    "\n",
    "**Karen Lorelei Cerda Roiz 1945088**\n",
    "\n",
    "**Sesión 15 - 30 de marzo del 2023**"
   ]
  },
  {
   "cell_type": "markdown",
   "id": "f10e576c",
   "metadata": {},
   "source": [
    "## Fechas en datetime"
   ]
  },
  {
   "cell_type": "code",
   "execution_count": 1,
   "id": "a1909438",
   "metadata": {},
   "outputs": [],
   "source": [
    "# importar datetime\n",
    "from datetime import datetime"
   ]
  },
  {
   "cell_type": "code",
   "execution_count": 10,
   "id": "0968e30a",
   "metadata": {},
   "outputs": [],
   "source": [
    "# fecha hoy\n",
    "mi_year = 2023\n",
    "mi_mes = 3\n",
    "mi_dia = 30 \n",
    "mi_hora = 15\n",
    "mi_minuto = 25\n",
    "mi_segundo = 30"
   ]
  },
  {
   "cell_type": "code",
   "execution_count": 11,
   "id": "5b7615fb",
   "metadata": {},
   "outputs": [],
   "source": [
    "# formato fecha es  AÑO-MES-DIA\n",
    "mi_fecha = datetime(mi_year, mi_mes, mi_dia)"
   ]
  },
  {
   "cell_type": "code",
   "execution_count": 12,
   "id": "2f6a0704",
   "metadata": {},
   "outputs": [
    {
     "data": {
      "text/plain": [
       "datetime.datetime(2023, 3, 30, 0, 0)"
      ]
     },
     "execution_count": 12,
     "metadata": {},
     "output_type": "execute_result"
    }
   ],
   "source": [
    "mi_fecha"
   ]
  },
  {
   "cell_type": "code",
   "execution_count": 13,
   "id": "b94de241",
   "metadata": {},
   "outputs": [],
   "source": [
    "mi_fecha_hora = datetime(mi_year, mi_mes, mi_dia, mi_hora, mi_minuto, mi_segundo)"
   ]
  },
  {
   "cell_type": "code",
   "execution_count": 14,
   "id": "67172a75",
   "metadata": {},
   "outputs": [
    {
     "data": {
      "text/plain": [
       "datetime.datetime(2023, 3, 30, 15, 25, 30)"
      ]
     },
     "execution_count": 14,
     "metadata": {},
     "output_type": "execute_result"
    }
   ],
   "source": [
    "mi_fecha_hora"
   ]
  },
  {
   "cell_type": "markdown",
   "id": "6063c844",
   "metadata": {},
   "source": [
    "Una vez que una variable es de tipo fecha, podemos acceder a sus componentes"
   ]
  },
  {
   "cell_type": "code",
   "execution_count": 15,
   "id": "bc3562a2",
   "metadata": {},
   "outputs": [
    {
     "data": {
      "text/plain": [
       "2023"
      ]
     },
     "execution_count": 15,
     "metadata": {},
     "output_type": "execute_result"
    }
   ],
   "source": [
    "# acceder al año de mi_fecha_hora\n",
    "mi_fecha_hora.year"
   ]
  },
  {
   "cell_type": "code",
   "execution_count": 16,
   "id": "952ff2a9",
   "metadata": {},
   "outputs": [
    {
     "data": {
      "text/plain": [
       "3"
      ]
     },
     "execution_count": 16,
     "metadata": {},
     "output_type": "execute_result"
    }
   ],
   "source": [
    "# acceder al mes de mi_fecha_hora\n",
    "mi_fecha_hora.month"
   ]
  },
  {
   "cell_type": "code",
   "execution_count": 17,
   "id": "af5176fb",
   "metadata": {},
   "outputs": [
    {
     "data": {
      "text/plain": [
       "25"
      ]
     },
     "execution_count": 17,
     "metadata": {},
     "output_type": "execute_result"
    }
   ],
   "source": [
    "# acceder al minuto de mi_fecha_hora\n",
    "mi_fecha_hora.minute"
   ]
  },
  {
   "cell_type": "markdown",
   "id": "6d014c71",
   "metadata": {},
   "source": [
    "## Fechas en numpy"
   ]
  },
  {
   "cell_type": "code",
   "execution_count": 18,
   "id": "8562f726",
   "metadata": {},
   "outputs": [],
   "source": [
    "import numpy as np "
   ]
  },
  {
   "cell_type": "code",
   "execution_count": 19,
   "id": "529b83b2",
   "metadata": {},
   "outputs": [
    {
     "data": {
      "text/plain": [
       "array(['2003-09-26', '2003-03-10'], dtype='datetime64[D]')"
      ]
     },
     "execution_count": 19,
     "metadata": {},
     "output_type": "execute_result"
    }
   ],
   "source": [
    "# el formato de fecha en numpy se llama datetime64\n",
    "np.array(['2003-09-26','2003-03-10'], dtype='datetime64')"
   ]
  },
  {
   "cell_type": "code",
   "execution_count": 21,
   "id": "dcf14aeb",
   "metadata": {},
   "outputs": [
    {
     "data": {
      "text/plain": [
       "array(['2003-09-26T00', '2003-03-10T00'], dtype='datetime64[h]')"
      ]
     },
     "execution_count": 21,
     "metadata": {},
     "output_type": "execute_result"
    }
   ],
   "source": [
    "# para que reconozca hasta la hora [h]\n",
    "np.array(['2003-09-26','2003-03-10'], dtype='datetime64[h]')"
   ]
  },
  {
   "cell_type": "code",
   "execution_count": 22,
   "id": "61f59b87",
   "metadata": {},
   "outputs": [
    {
     "data": {
      "text/plain": [
       "array(['2003', '2003'], dtype='datetime64[Y]')"
      ]
     },
     "execution_count": 22,
     "metadata": {},
     "output_type": "execute_result"
    }
   ],
   "source": [
    "# para que reconozca hasta el año [Y]\n",
    "np.array(['2003-09-26','2003-03-10'], dtype='datetime64[Y]')"
   ]
  },
  {
   "cell_type": "code",
   "execution_count": 23,
   "id": "da2c7314",
   "metadata": {},
   "outputs": [
    {
     "data": {
      "text/plain": [
       "array(['2003-09', '2003-03'], dtype='datetime64[M]')"
      ]
     },
     "execution_count": 23,
     "metadata": {},
     "output_type": "execute_result"
    }
   ],
   "source": [
    "# para que reconozca hasta el mes [M]\n",
    "np.array(['2003-09-26','2003-03-10'], dtype='datetime64[M]')"
   ]
  },
  {
   "cell_type": "code",
   "execution_count": 27,
   "id": "f7f79054",
   "metadata": {},
   "outputs": [
    {
     "data": {
      "text/plain": [
       "array(['2003', '2004', '2005', '2006', '2007', '2008', '2009', '2010',\n",
       "       '2011', '2012', '2013', '2014', '2015', '2016', '2017', '2018',\n",
       "       '2019', '2020', '2021', '2022'], dtype='datetime64[Y]')"
      ]
     },
     "execution_count": 27,
     "metadata": {},
     "output_type": "execute_result"
    }
   ],
   "source": [
    "# Hace un arreglo desde mi nacimiento a la actualidad, en saltos de 1 en 1 y con el tipo de datetime64 que toma hasta el año\n",
    "np.arange('2003-09-26','2023-03-30',1,dtype='datetime64[Y]')"
   ]
  },
  {
   "cell_type": "code",
   "execution_count": 28,
   "id": "f2f395dd",
   "metadata": {},
   "outputs": [
    {
     "data": {
      "text/plain": [
       "array(['2023-01-23', '2023-01-30', '2023-02-06', '2023-02-13',\n",
       "       '2023-02-20', '2023-02-27', '2023-03-06', '2023-03-13',\n",
       "       '2023-03-20', '2023-03-27'], dtype='datetime64[D]')"
      ]
     },
     "execution_count": 28,
     "metadata": {},
     "output_type": "execute_result"
    }
   ],
   "source": [
    "# Hace un arreglo desde el 23 de enero a la actualidad, en saltos de 7 en 7(semanales) y con el tipo de datetime64 que toma hasta el dia\n",
    "np.arange('2023-01-23','2023-03-30',7,dtype='datetime64[D]')"
   ]
  },
  {
   "cell_type": "markdown",
   "id": "28826c46",
   "metadata": {},
   "source": [
    "## Fechas en pandas"
   ]
  },
  {
   "cell_type": "code",
   "execution_count": 29,
   "id": "6582c52d",
   "metadata": {},
   "outputs": [],
   "source": [
    "import pandas as pd"
   ]
  },
  {
   "cell_type": "code",
   "execution_count": 30,
   "id": "f99b695c",
   "metadata": {},
   "outputs": [],
   "source": [
    "# la semana del 8 de julio de 2018\n",
    "semana8 = pd.date_range('07/08/18', periods=7, freq='D')"
   ]
  },
  {
   "cell_type": "code",
   "execution_count": 31,
   "id": "ce872111",
   "metadata": {},
   "outputs": [
    {
     "data": {
      "text/plain": [
       "DatetimeIndex(['2018-07-08', '2018-07-09', '2018-07-10', '2018-07-11',\n",
       "               '2018-07-12', '2018-07-13', '2018-07-14'],\n",
       "              dtype='datetime64[ns]', freq='D')"
      ]
     },
     "execution_count": 31,
     "metadata": {},
     "output_type": "execute_result"
    }
   ],
   "source": [
    "semana8"
   ]
  },
  {
   "cell_type": "code",
   "execution_count": 38,
   "id": "1da1e5f1",
   "metadata": {},
   "outputs": [
    {
     "data": {
      "text/plain": [
       "DatetimeIndex(['2023-04-12', '2023-03-30', '2020-01-01'], dtype='datetime64[ns]', freq=None)"
      ]
     },
     "execution_count": 38,
     "metadata": {},
     "output_type": "execute_result"
    }
   ],
   "source": [
    "# de que forma le podemos pasar fechas a pandas\n",
    "# pandas acepta varios formatos de fechas\n",
    "pd.to_datetime(['Apr 12, 2023', '3/30/23', '01-Jan-2020'])"
   ]
  },
  {
   "cell_type": "code",
   "execution_count": 41,
   "id": "c6643544",
   "metadata": {},
   "outputs": [
    {
     "data": {
      "text/plain": [
       "array(['2023-01-12', '2022-04-10'], dtype='datetime64[D]')"
      ]
     },
     "execution_count": 41,
     "metadata": {},
     "output_type": "execute_result"
    }
   ],
   "source": [
    "algunas_fechas = np.array(['2023-01-12', '2022-04-10'], dtype='datetime64[D]')\n",
    "algunas_fechas"
   ]
  },
  {
   "cell_type": "code",
   "execution_count": 43,
   "id": "df58caf3",
   "metadata": {},
   "outputs": [],
   "source": [
    "# las podemos usar en pandas\n",
    "algunas_fechas = pd.to_datetime(algunas_fechas)"
   ]
  },
  {
   "cell_type": "code",
   "execution_count": 44,
   "id": "019ddeaf",
   "metadata": {},
   "outputs": [
    {
     "ename": "AttributeError",
     "evalue": "'DatetimeIndex' object has no attribute 'asfreq'",
     "output_type": "error",
     "traceback": [
      "\u001b[1;31m---------------------------------------------------------------------------\u001b[0m",
      "\u001b[1;31mAttributeError\u001b[0m                            Traceback (most recent call last)",
      "Input \u001b[1;32mIn [44]\u001b[0m, in \u001b[0;36m<cell line: 2>\u001b[1;34m()\u001b[0m\n\u001b[0;32m      1\u001b[0m \u001b[38;5;66;03m# una forma de dar frecuencia   df.index.freq = 'D'\u001b[39;00m\n\u001b[1;32m----> 2\u001b[0m \u001b[43malgunas_fechas\u001b[49m\u001b[38;5;241;43m.\u001b[39;49m\u001b[43masfreq\u001b[49m(\u001b[38;5;124m'\u001b[39m\u001b[38;5;124mD\u001b[39m\u001b[38;5;124m'\u001b[39m)\n",
      "\u001b[1;31mAttributeError\u001b[0m: 'DatetimeIndex' object has no attribute 'asfreq'"
     ]
    }
   ],
   "source": [
    "# una forma de dar frecuencia   df.index.freq = 'D'\n",
    "algunas_fechas.asfreq('D')"
   ]
  }
 ],
 "metadata": {
  "kernelspec": {
   "display_name": "Python 3 (ipykernel)",
   "language": "python",
   "name": "python3"
  },
  "language_info": {
   "codemirror_mode": {
    "name": "ipython",
    "version": 3
   },
   "file_extension": ".py",
   "mimetype": "text/x-python",
   "name": "python",
   "nbconvert_exporter": "python",
   "pygments_lexer": "ipython3",
   "version": "3.9.12"
  }
 },
 "nbformat": 4,
 "nbformat_minor": 5
}
