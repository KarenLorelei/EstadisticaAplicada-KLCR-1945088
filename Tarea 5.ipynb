{
 "cells": [
  {
   "cell_type": "markdown",
   "id": "9e664f1b",
   "metadata": {},
   "source": [
    "# Estadística Aplicada\n",
    "## Karen Lorelei Cerda Roiz 1945088\n",
    "### Tarea 05 a marzo del 2023"
   ]
  },
  {
   "cell_type": "code",
   "execution_count": 1,
   "id": "4f5c13b4",
   "metadata": {},
   "outputs": [],
   "source": [
    "import numpy as np\n",
    "import pandas as pd\n",
    "import matplotlib.pyplot as plt \n",
    "%matplotlib inline"
   ]
  },
  {
   "cell_type": "code",
   "execution_count": 13,
   "id": "09e3f7a0",
   "metadata": {},
   "outputs": [],
   "source": [
    "from lifelines import CoxPHFitter"
   ]
  },
  {
   "cell_type": "code",
   "execution_count": 2,
   "id": "debd5eb1",
   "metadata": {},
   "outputs": [],
   "source": [
    "datos = pd.read_excel('C:/Users/Lenovo/Desktop/KLCR/supervivencia_examenes.xlsx')"
   ]
  },
  {
   "cell_type": "code",
   "execution_count": 14,
   "id": "5e62a918",
   "metadata": {},
   "outputs": [
    {
     "data": {
      "text/html": [
       "<div>\n",
       "<style scoped>\n",
       "    .dataframe tbody tr th:only-of-type {\n",
       "        vertical-align: middle;\n",
       "    }\n",
       "\n",
       "    .dataframe tbody tr th {\n",
       "        vertical-align: top;\n",
       "    }\n",
       "\n",
       "    .dataframe thead th {\n",
       "        text-align: right;\n",
       "    }\n",
       "</style>\n",
       "<table border=\"1\" class=\"dataframe\">\n",
       "  <thead>\n",
       "    <tr style=\"text-align: right;\">\n",
       "      <th></th>\n",
       "      <th>id</th>\n",
       "      <th>tiempo</th>\n",
       "      <th>examen</th>\n",
       "      <th>calificación</th>\n",
       "      <th>género</th>\n",
       "    </tr>\n",
       "  </thead>\n",
       "  <tbody>\n",
       "    <tr>\n",
       "      <th>0</th>\n",
       "      <td>1</td>\n",
       "      <td>85</td>\n",
       "      <td>1</td>\n",
       "      <td>100.0</td>\n",
       "      <td>m</td>\n",
       "    </tr>\n",
       "    <tr>\n",
       "      <th>1</th>\n",
       "      <td>2</td>\n",
       "      <td>109</td>\n",
       "      <td>1</td>\n",
       "      <td>100.0</td>\n",
       "      <td>m</td>\n",
       "    </tr>\n",
       "    <tr>\n",
       "      <th>2</th>\n",
       "      <td>3</td>\n",
       "      <td>118</td>\n",
       "      <td>1</td>\n",
       "      <td>100.0</td>\n",
       "      <td>m</td>\n",
       "    </tr>\n",
       "    <tr>\n",
       "      <th>3</th>\n",
       "      <td>4</td>\n",
       "      <td>120</td>\n",
       "      <td>1</td>\n",
       "      <td>100.0</td>\n",
       "      <td>f</td>\n",
       "    </tr>\n",
       "    <tr>\n",
       "      <th>4</th>\n",
       "      <td>5</td>\n",
       "      <td>106</td>\n",
       "      <td>1</td>\n",
       "      <td>98.0</td>\n",
       "      <td>f</td>\n",
       "    </tr>\n",
       "  </tbody>\n",
       "</table>\n",
       "</div>"
      ],
      "text/plain": [
       "   id  tiempo  examen  calificación género\n",
       "0   1      85       1         100.0      m\n",
       "1   2     109       1         100.0      m\n",
       "2   3     118       1         100.0      m\n",
       "3   4     120       1         100.0      f\n",
       "4   5     106       1          98.0      f"
      ]
     },
     "execution_count": 14,
     "metadata": {},
     "output_type": "execute_result"
    }
   ],
   "source": [
    "datos.head()"
   ]
  },
  {
   "cell_type": "markdown",
   "id": "050f03e4",
   "metadata": {},
   "source": [
    "### a) Estadísticas Descriptivas"
   ]
  },
  {
   "cell_type": "code",
   "execution_count": 42,
   "id": "8d679792",
   "metadata": {},
   "outputs": [
    {
     "name": "stdout",
     "output_type": "stream",
     "text": [
      "El tiempo promedio que tardaron en responder todos los alumnos el examen es de 107.35 minutos\n",
      "La calificación promedio obtenida de todos los alumnos es de 90.71\n"
     ]
    }
   ],
   "source": [
    "tiemprom = datos['tiempo'].mean()\n",
    "calprom = datos['calificación'].mean()\n",
    "\n",
    "print('El tiempo promedio que tardaron en responder todos los alumnos el examen es de', round(tiemprom,2), 'minutos')\n",
    "print('La calificación promedio obtenida de todos los alumnos es de', round(calprom,2))"
   ]
  },
  {
   "cell_type": "code",
   "execution_count": 41,
   "id": "81eaab07",
   "metadata": {},
   "outputs": [
    {
     "name": "stdout",
     "output_type": "stream",
     "text": [
      "El tiempo promedio que tardaron en responder las alumnas el examen es de 108.12 minutos; y su calificación promedio obtenida es de 93.0\n",
      "El tiempo promedio que tardaron en responder los alumnos el examen es de 106.67 minutos; y su calificación promedio obtenida es de 88.67\n"
     ]
    }
   ],
   "source": [
    "alumnas = datos['género']=='f'\n",
    "alumnos = datos['género']=='m'\n",
    "\n",
    "datf = datos[alumnas]\n",
    "datm = datos[alumnos]\n",
    "\n",
    "tpromf = datf['tiempo'].mean()\n",
    "tpromm = datm['tiempo'].mean()\n",
    "\n",
    "cpromf = datf['calificación'].mean()\n",
    "cpromm = datm['calificación'].mean()\n",
    "\n",
    "print('El tiempo promedio que tardaron en responder las alumnas el examen es de', round(tpromf,2), 'minutos; y su calificación promedio obtenida es de', round(cpromf,2))\n",
    "print('El tiempo promedio que tardaron en responder los alumnos el examen es de', round(tpromm,2), 'minutos; y su calificación promedio obtenida es de', round(cpromm,2))\n"
   ]
  },
  {
   "cell_type": "markdown",
   "id": "7af9d961",
   "metadata": {},
   "source": [
    "### b) ¿Cómo crees que se comporta el riesgo de entregar el examen conforme transcurre el tiempo? ¿es constante, creciente o decreciente? Según tu respuesta ajusta un modelo exponencial o weibull, primero para todos los individuos y muestra la función de riesgo."
   ]
  },
  {
   "cell_type": "code",
   "execution_count": null,
   "id": "3754aecc",
   "metadata": {},
   "outputs": [],
   "source": []
  },
  {
   "cell_type": "code",
   "execution_count": null,
   "id": "a22f6393",
   "metadata": {},
   "outputs": [],
   "source": []
  },
  {
   "cell_type": "code",
   "execution_count": null,
   "id": "3c2305e4",
   "metadata": {},
   "outputs": [],
   "source": []
  },
  {
   "cell_type": "code",
   "execution_count": null,
   "id": "d25752af",
   "metadata": {},
   "outputs": [],
   "source": []
  }
 ],
 "metadata": {
  "kernelspec": {
   "display_name": "Python 3 (ipykernel)",
   "language": "python",
   "name": "python3"
  },
  "language_info": {
   "codemirror_mode": {
    "name": "ipython",
    "version": 3
   },
   "file_extension": ".py",
   "mimetype": "text/x-python",
   "name": "python",
   "nbconvert_exporter": "python",
   "pygments_lexer": "ipython3",
   "version": "3.9.12"
  }
 },
 "nbformat": 4,
 "nbformat_minor": 5
}
