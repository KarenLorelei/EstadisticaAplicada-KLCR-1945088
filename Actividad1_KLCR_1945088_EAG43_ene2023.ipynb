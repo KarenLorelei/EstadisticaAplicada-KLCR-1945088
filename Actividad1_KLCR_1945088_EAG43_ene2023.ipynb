{
 "cells": [
  {
   "cell_type": "markdown",
   "id": "d5ecd489-845b-4b65-9fa4-215e0130b216",
   "metadata": {},
   "source": [
    "## Bianca Elizabeth Alaniz Sandoval 1895741\n",
    "## Haidee Vanessa Padron Puentes 1900647\n",
    "## Karen Lorelei Cerda Roiz 1945088"
   ]
  },
  {
   "cell_type": "markdown",
   "id": "6d9b8903-2f4f-4680-a6c4-31eaeff9e5df",
   "metadata": {},
   "source": [
    "1. Crea una lista con los nombres de pila de los integrantes de tu familia, la lista se llamara mi_familia"
   ]
  },
  {
   "cell_type": "code",
   "execution_count": 4,
   "id": "fbb59900-828b-4e32-a25d-d2fd0c703fe9",
   "metadata": {},
   "outputs": [],
   "source": [
    "#respuesta\n",
    "mi_familia1 = [\"Cristal\", \"Xavier\", \"Javier\", \"Erika\", \"Bianca\"]\n",
    "mi_familia2=[\"Maria\", \"Jose\", \"Judith\", \"Haidee\"]\n",
    "mi_familia3=[\"Ricardo\", \"Carla\", \"Valeria\", \"Karen\"]"
   ]
  },
  {
   "cell_type": "markdown",
   "id": "2d37233b-9475-4157-9240-63aa5f82cc33",
   "metadata": {},
   "source": [
    "2. Crea una variable float que se llame mi_edad con tu edad \\\n",
    "Nota: las variables float contienen decimales "
   ]
  },
  {
   "cell_type": "code",
   "execution_count": 7,
   "id": "b984f18b-109c-4938-8340-25acc322e18b",
   "metadata": {},
   "outputs": [],
   "source": [
    "#respuesta\n",
    "mi_edad1 = float(20)"
   ]
  },
  {
   "cell_type": "code",
   "execution_count": 8,
   "id": "abacc6cb-9463-47c3-abe3-0ea4c186dbd4",
   "metadata": {},
   "outputs": [],
   "source": [
    "mi_edad2 = float(21)"
   ]
  },
  {
   "cell_type": "code",
   "execution_count": 9,
   "id": "6aaee957-316a-411b-9c08-a0c1c9579194",
   "metadata": {},
   "outputs": [],
   "source": [
    "mi_edad3 = float(19)"
   ]
  },
  {
   "cell_type": "code",
   "execution_count": 10,
   "id": "36332559-019c-4b32-ac1e-4d70e7f205f2",
   "metadata": {},
   "outputs": [
    {
     "data": {
      "text/plain": [
       "float"
      ]
     },
     "execution_count": 10,
     "metadata": {},
     "output_type": "execute_result"
    }
   ],
   "source": [
    "#al ejecutar el comando de abajo debe resultarte float\n",
    "type(mi_edad1)"
   ]
  },
  {
   "cell_type": "code",
   "execution_count": 11,
   "id": "ffc5d6d0-d8a5-4002-a060-80653f884004",
   "metadata": {},
   "outputs": [
    {
     "data": {
      "text/plain": [
       "float"
      ]
     },
     "execution_count": 11,
     "metadata": {},
     "output_type": "execute_result"
    }
   ],
   "source": [
    "type(mi_edad2)\n"
   ]
  },
  {
   "cell_type": "code",
   "execution_count": 12,
   "id": "3d00ff94-2fed-49e8-a811-52840fce619e",
   "metadata": {},
   "outputs": [
    {
     "data": {
      "text/plain": [
       "float"
      ]
     },
     "execution_count": 12,
     "metadata": {},
     "output_type": "execute_result"
    }
   ],
   "source": [
    "type(mi_edad3)"
   ]
  },
  {
   "cell_type": "markdown",
   "id": "31fe34c2-a22d-4cd3-8513-10636f9f321c",
   "metadata": {},
   "source": [
    "3. Convierte la variable mi_edad a entero (int) y guardalo en mi_edad "
   ]
  },
  {
   "cell_type": "code",
   "execution_count": 13,
   "id": "3ff48778-6d4a-4328-8fbe-5c036a9b29b3",
   "metadata": {},
   "outputs": [],
   "source": [
    "#respuesta\n",
    "mi_edad1 = int(mi_edad1)"
   ]
  },
  {
   "cell_type": "code",
   "execution_count": 14,
   "id": "304717b7-8f45-4fa0-9146-654b1e877c37",
   "metadata": {},
   "outputs": [],
   "source": [
    "mi_edad2 = int(mi_edad2)"
   ]
  },
  {
   "cell_type": "code",
   "execution_count": 15,
   "id": "97b14864-d236-47d9-b335-4d2ab254b0ed",
   "metadata": {},
   "outputs": [],
   "source": [
    "mi_edad3 = int(mi_edad3)"
   ]
  },
  {
   "cell_type": "code",
   "execution_count": 16,
   "id": "442ebc5b-cc8c-4c64-8c15-2e2623721e4e",
   "metadata": {},
   "outputs": [
    {
     "data": {
      "text/plain": [
       "int"
      ]
     },
     "execution_count": 16,
     "metadata": {},
     "output_type": "execute_result"
    }
   ],
   "source": [
    "#al ejecutar el comando de abajo debe resultarte int\n",
    "type(mi_edad1)"
   ]
  },
  {
   "cell_type": "code",
   "execution_count": 17,
   "id": "3a16eafc-ffa1-4b50-b7d7-19660a211841",
   "metadata": {},
   "outputs": [
    {
     "data": {
      "text/plain": [
       "int"
      ]
     },
     "execution_count": 17,
     "metadata": {},
     "output_type": "execute_result"
    }
   ],
   "source": [
    "type(mi_edad2)"
   ]
  },
  {
   "cell_type": "code",
   "execution_count": 18,
   "id": "e9517631-ccff-4291-b6f2-a9d38c845cf7",
   "metadata": {},
   "outputs": [
    {
     "data": {
      "text/plain": [
       "int"
      ]
     },
     "execution_count": 18,
     "metadata": {},
     "output_type": "execute_result"
    }
   ],
   "source": [
    "type(mi_edad3)"
   ]
  },
  {
   "cell_type": "markdown",
   "id": "9057e59d-28cc-4885-9d3f-b8925ccd000a",
   "metadata": {},
   "source": [
    "4. Con el comando len(objeto) muestra cuántos integrantes tiene tu familia"
   ]
  },
  {
   "cell_type": "code",
   "execution_count": 19,
   "id": "3e62392c-2cee-4323-8e6a-fa271281f434",
   "metadata": {},
   "outputs": [
    {
     "data": {
      "text/plain": [
       "5"
      ]
     },
     "execution_count": 19,
     "metadata": {},
     "output_type": "execute_result"
    }
   ],
   "source": [
    "#respuesta\n",
    "len(mi_familia1)"
   ]
  },
  {
   "cell_type": "code",
   "execution_count": 20,
   "id": "27b18af6-7c2e-402f-8ea3-f5141d450499",
   "metadata": {},
   "outputs": [
    {
     "data": {
      "text/plain": [
       "4"
      ]
     },
     "execution_count": 20,
     "metadata": {},
     "output_type": "execute_result"
    }
   ],
   "source": [
    "len(mi_familia2)"
   ]
  },
  {
   "cell_type": "code",
   "execution_count": 21,
   "id": "5984c740-4dd7-4419-8f8e-5177fc86cc69",
   "metadata": {},
   "outputs": [
    {
     "data": {
      "text/plain": [
       "4"
      ]
     },
     "execution_count": 21,
     "metadata": {},
     "output_type": "execute_result"
    }
   ],
   "source": [
    "len(mi_familia3)"
   ]
  },
  {
   "cell_type": "markdown",
   "id": "b7c110fb-968d-48ed-ba68-7c235c94a35d",
   "metadata": {},
   "source": [
    "5. Utiliza print para que se imprima en pantalla tu edad "
   ]
  },
  {
   "cell_type": "markdown",
   "id": "5f9a3930-9df6-4e79-8175-31f15d692588",
   "metadata": {},
   "source": [
    "Ejemplo, yo (el profe) tengo 5 perros de mascotas y voy a imprimirlo en pantalla "
   ]
  },
  {
   "cell_type": "code",
   "execution_count": 10,
   "id": "59be38ed-2c19-4894-b2f4-2eb7cb121b37",
   "metadata": {},
   "outputs": [
    {
     "name": "stdout",
     "output_type": "stream",
     "text": [
      "yo tengo 5 perros en casa\n"
     ]
    }
   ],
   "source": [
    "num_mascotas = int(5)\n",
    "print('yo tengo', num_mascotas, 'perros en casa')"
   ]
  },
  {
   "cell_type": "code",
   "execution_count": 23,
   "id": "0560aa51-9c82-40d9-a6de-e12a1e82478d",
   "metadata": {},
   "outputs": [
    {
     "name": "stdout",
     "output_type": "stream",
     "text": [
      "Yo Bianca tengo 20 años\n"
     ]
    }
   ],
   "source": [
    "## tu respuesta para mostrar tu edad\n",
    "## utiliza la variable mi_edad creada anteriormente\n",
    "\n",
    "print(\"Yo Bianca tengo\", mi_edad1, \"años\")"
   ]
  },
  {
   "cell_type": "code",
   "execution_count": 24,
   "id": "b2669404-3e1a-442f-bc87-d889c6a4e922",
   "metadata": {},
   "outputs": [
    {
     "name": "stdout",
     "output_type": "stream",
     "text": [
      "Yo Haidee tengo 21 años\n"
     ]
    }
   ],
   "source": [
    "print(\"Yo Haidee tengo\", mi_edad2, \"años\")"
   ]
  },
  {
   "cell_type": "code",
   "execution_count": 25,
   "id": "885a5014-fe44-4866-8aa9-af3abebfb00c",
   "metadata": {},
   "outputs": [
    {
     "name": "stdout",
     "output_type": "stream",
     "text": [
      "Yo Karen tengo 19 años\n"
     ]
    }
   ],
   "source": [
    "print(\"Yo Karen tengo\", mi_edad3, \"años\")"
   ]
  },
  {
   "cell_type": "markdown",
   "id": "dcc51ac7-8eba-4b87-a57b-1ffa1c5d1f5d",
   "metadata": {},
   "source": [
    "6. Utiliza print para mostrar cuantos integrantes tiene tu familia \\\n",
    "Ahora usa print(f'texto {objeto}'). Mira el ejemplo"
   ]
  },
  {
   "cell_type": "code",
   "execution_count": 11,
   "id": "31bc7411-ff72-4913-8730-cd690858a9b4",
   "metadata": {},
   "outputs": [
    {
     "name": "stdout",
     "output_type": "stream",
     "text": [
      "El profe tiene 5 perros en su casa\n"
     ]
    }
   ],
   "source": [
    "print(f'El profe tiene {num_mascotas} perros en su casa')"
   ]
  },
  {
   "cell_type": "code",
   "execution_count": 26,
   "id": "b6a30927-3101-47c0-bbbc-b9c4a4b27b17",
   "metadata": {},
   "outputs": [
    {
     "name": "stdout",
     "output_type": "stream",
     "text": [
      "Bianca tiene 5 integrantes en su familia\n"
     ]
    }
   ],
   "source": [
    "## tu respuesta \n",
    "## utiliza len()\n",
    "print(f'Bianca tiene {len(mi_familia1)} integrantes en su familia')\n"
   ]
  },
  {
   "cell_type": "code",
   "execution_count": 27,
   "id": "19d42b80-58c0-42ce-995a-563c5c1649d1",
   "metadata": {},
   "outputs": [
    {
     "name": "stdout",
     "output_type": "stream",
     "text": [
      "Haidee tiene 4 integrantes en su familia\n"
     ]
    }
   ],
   "source": [
    "print(f'Haidee tiene {len(mi_familia2)} integrantes en su familia')"
   ]
  },
  {
   "cell_type": "code",
   "execution_count": 28,
   "id": "f1d5e760-eff9-4f63-9c4a-49b47411835e",
   "metadata": {},
   "outputs": [
    {
     "name": "stdout",
     "output_type": "stream",
     "text": [
      "Karen tiene 4 integrantes en su familia\n"
     ]
    }
   ],
   "source": [
    "print(f'Karen tiene {len(mi_familia3)} integrantes en su familia')"
   ]
  },
  {
   "cell_type": "markdown",
   "id": "38ef105e-a81e-466f-8d5d-8de96d553850",
   "metadata": {},
   "source": [
    "7. Completa el siguiente codigo para que si tienes 20 o más años de edad se imprima \"tengo mas de 20 años\" y sino, se imprima \"tengo menos de 20 años\" "
   ]
  },
  {
   "cell_type": "code",
   "execution_count": 31,
   "id": "02687bc5-a8f2-46cb-84ae-cbf581f0be9c",
   "metadata": {},
   "outputs": [
    {
     "name": "stdout",
     "output_type": "stream",
     "text": [
      "Bianca tiene mas de 20 años\n"
     ]
    }
   ],
   "source": [
    "if mi_edad1 >= 20: \n",
    "##aqui va un print\n",
    "    print(\"Bianca tiene mas de 20 años\")\n",
    "else:\n",
    "##aqui va otro print    \n",
    "     print(\"Bianca tiene menos de 20 años\")"
   ]
  },
  {
   "cell_type": "code",
   "execution_count": 32,
   "id": "c9bf7c6f-ed59-4e11-8d63-49b5ada9e3eb",
   "metadata": {},
   "outputs": [
    {
     "name": "stdout",
     "output_type": "stream",
     "text": [
      "Haidee tiene mas de 20 años\n"
     ]
    }
   ],
   "source": [
    "if mi_edad2 >= 20: \n",
    "##aqui va un print\n",
    "    print(\"Haidee tiene mas de 20 años\")\n",
    "else:\n",
    "##aqui va otro print    \n",
    "     print(\"Haidee tiene menos de 20 años\")"
   ]
  },
  {
   "cell_type": "code",
   "execution_count": 33,
   "id": "1e885d71-c39a-42ea-b068-c18abb0fbe65",
   "metadata": {},
   "outputs": [
    {
     "name": "stdout",
     "output_type": "stream",
     "text": [
      "Karen tiene menos de 20 años\n"
     ]
    }
   ],
   "source": [
    "if mi_edad3 >= 20: \n",
    "##aqui va un print\n",
    "    print(\"Karen tiene mas de 20 años\")\n",
    "else:\n",
    "##aqui va otro print    \n",
    "     print(\"Karen tiene menos de 20 años\")"
   ]
  },
  {
   "cell_type": "code",
   "execution_count": null,
   "id": "00d6d53c-9872-4cf5-bf32-b6c2832c40c2",
   "metadata": {},
   "outputs": [],
   "source": []
  }
 ],
 "metadata": {
  "kernelspec": {
   "display_name": "Python 3 (ipykernel)",
   "language": "python",
   "name": "python3"
  },
  "language_info": {
   "codemirror_mode": {
    "name": "ipython",
    "version": 3
   },
   "file_extension": ".py",
   "mimetype": "text/x-python",
   "name": "python",
   "nbconvert_exporter": "python",
   "pygments_lexer": "ipython3",
   "version": "3.9.12"
  },
  "nteract": {
   "version": "nteract-front-end@1.0.0"
  }
 },
 "nbformat": 4,
 "nbformat_minor": 5
}
