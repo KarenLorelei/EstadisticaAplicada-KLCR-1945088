{
 "cells": [
  {
   "cell_type": "markdown",
   "id": "b429b45a-0922-4fc1-b4a7-2ddd8296ca5d",
   "metadata": {},
   "source": [
    "# Estadística Aplicada\n",
    "## 1er Sesión\n",
    "**25 enero**"
   ]
  },
  {
   "cell_type": "markdown",
   "id": "3cf9f5a7-6ce6-4690-8aec-9070e09ae90d",
   "metadata": {},
   "source": [
    "La celda de Markdown también admite código de LATEX"
   ]
  },
  {
   "cell_type": "markdown",
   "id": "5590b384-92ec-4b78-9bd7-ea3a5431fce8",
   "metadata": {},
   "source": [
    "$y_i=a+bx_i+\\epsilon_i$"
   ]
  },
  {
   "cell_type": "markdown",
   "id": "305c395a-a651-4668-b28a-1284d3b66b96",
   "metadata": {},
   "source": [
    "$y_i=a+bx_i+\\varepsilon_i$"
   ]
  },
  {
   "cell_type": "code",
   "execution_count": 1,
   "id": "d13c9282-56ef-4e10-9a57-7fe0e421a565",
   "metadata": {},
   "outputs": [],
   "source": [
    "variable1 = 1.34"
   ]
  },
  {
   "cell_type": "code",
   "execution_count": 2,
   "id": "234de777-879c-4ac2-8054-22a246b36c9b",
   "metadata": {},
   "outputs": [
    {
     "data": {
      "text/plain": [
       "1.34"
      ]
     },
     "execution_count": 2,
     "metadata": {},
     "output_type": "execute_result"
    }
   ],
   "source": [
    "variable1"
   ]
  },
  {
   "cell_type": "code",
   "execution_count": 3,
   "id": "2acb0a53-0b7d-4621-bb03-94d278cb3791",
   "metadata": {},
   "outputs": [],
   "source": [
    "variable2 = 2"
   ]
  },
  {
   "cell_type": "code",
   "execution_count": 4,
   "id": "78f63cd1-36e2-4666-8fb3-1687c1a72e6f",
   "metadata": {},
   "outputs": [
    {
     "data": {
      "text/plain": [
       "2"
      ]
     },
     "execution_count": 4,
     "metadata": {},
     "output_type": "execute_result"
    }
   ],
   "source": [
    "variable2"
   ]
  },
  {
   "cell_type": "code",
   "execution_count": 5,
   "id": "679912e0-dfff-4a6e-93b7-0427b94ff53b",
   "metadata": {},
   "outputs": [],
   "source": [
    "variable3 = \"A\""
   ]
  },
  {
   "cell_type": "code",
   "execution_count": 6,
   "id": "2bb58a45-774d-4086-be55-a294b7d6dcf1",
   "metadata": {},
   "outputs": [
    {
     "data": {
      "text/plain": [
       "float"
      ]
     },
     "execution_count": 6,
     "metadata": {},
     "output_type": "execute_result"
    }
   ],
   "source": [
    "type(variable1)"
   ]
  },
  {
   "cell_type": "code",
   "execution_count": 7,
   "id": "6e8815e3-ef7e-41ff-bb12-f7d50ca67740",
   "metadata": {},
   "outputs": [
    {
     "data": {
      "text/plain": [
       "int"
      ]
     },
     "execution_count": 7,
     "metadata": {},
     "output_type": "execute_result"
    }
   ],
   "source": [
    "type(variable2)"
   ]
  },
  {
   "cell_type": "code",
   "execution_count": 8,
   "id": "943d2db3-62f1-45b8-a0d4-a8b72a4c67f2",
   "metadata": {},
   "outputs": [
    {
     "data": {
      "text/plain": [
       "str"
      ]
     },
     "execution_count": 8,
     "metadata": {},
     "output_type": "execute_result"
    }
   ],
   "source": [
    "type(variable3)"
   ]
  },
  {
   "cell_type": "code",
   "execution_count": 9,
   "id": "bfc8bc5f-11dc-4a33-ae51-e39108acdd6a",
   "metadata": {},
   "outputs": [
    {
     "data": {
      "text/plain": [
       "2.0"
      ]
     },
     "execution_count": 9,
     "metadata": {},
     "output_type": "execute_result"
    }
   ],
   "source": [
    "float(variable2)"
   ]
  },
  {
   "cell_type": "code",
   "execution_count": 11,
   "id": "41fe0ffb-f868-4ca9-991e-fad2d57e0aae",
   "metadata": {},
   "outputs": [],
   "source": [
    "variable2 = float(variable2)"
   ]
  },
  {
   "cell_type": "code",
   "execution_count": 12,
   "id": "c84b1ce5-e001-4300-b613-407b30537979",
   "metadata": {},
   "outputs": [
    {
     "data": {
      "text/plain": [
       "float"
      ]
     },
     "execution_count": 12,
     "metadata": {},
     "output_type": "execute_result"
    }
   ],
   "source": [
    "type(variable2)"
   ]
  },
  {
   "cell_type": "code",
   "execution_count": 13,
   "id": "51d031e6-dbff-4baa-a21b-4e6cd40fecfc",
   "metadata": {},
   "outputs": [
    {
     "name": "stdout",
     "output_type": "stream",
     "text": [
      "1.34\n"
     ]
    }
   ],
   "source": [
    "print(variable1)"
   ]
  },
  {
   "cell_type": "code",
   "execution_count": 14,
   "id": "af6d4e45-2e5a-46ae-9375-5a01ab9a1a05",
   "metadata": {},
   "outputs": [
    {
     "name": "stdout",
     "output_type": "stream",
     "text": [
      "1.34 2.0\n"
     ]
    }
   ],
   "source": [
    "print(variable1,variable2)"
   ]
  },
  {
   "cell_type": "code",
   "execution_count": 15,
   "id": "4ee9681c-10ba-490e-8e82-e1abc75fe920",
   "metadata": {},
   "outputs": [
    {
     "data": {
      "text/plain": [
       "(1.34, 2.0)"
      ]
     },
     "execution_count": 15,
     "metadata": {},
     "output_type": "execute_result"
    }
   ],
   "source": [
    "variable1,variable2"
   ]
  },
  {
   "cell_type": "code",
   "execution_count": 17,
   "id": "86b0730f-69dc-44f9-93a0-bcf6535ea621",
   "metadata": {},
   "outputs": [
    {
     "name": "stdout",
     "output_type": "stream",
     "text": [
      "Este es un dos decimal: 2.0\n"
     ]
    }
   ],
   "source": [
    "print(\"Este es un dos decimal:\",variable2)"
   ]
  },
  {
   "cell_type": "code",
   "execution_count": 19,
   "id": "e3fd8610-9f4b-4505-956d-5d279513e956",
   "metadata": {},
   "outputs": [
    {
     "name": "stdout",
     "output_type": "stream",
     "text": [
      "Este es un dos decimal: 2.0\n"
     ]
    }
   ],
   "source": [
    "print(f\"Este es un dos decimal: {variable2}\")"
   ]
  },
  {
   "cell_type": "code",
   "execution_count": 20,
   "id": "337c6086-bad9-4e6c-88ea-8909c1978f08",
   "metadata": {},
   "outputs": [
    {
     "data": {
      "text/plain": [
       "True"
      ]
     },
     "execution_count": 20,
     "metadata": {},
     "output_type": "execute_result"
    }
   ],
   "source": [
    "7>5"
   ]
  },
  {
   "cell_type": "code",
   "execution_count": 21,
   "id": "a30314ba-45e9-469a-a62f-17341283d2a0",
   "metadata": {},
   "outputs": [
    {
     "data": {
      "text/plain": [
       "False"
      ]
     },
     "execution_count": 21,
     "metadata": {},
     "output_type": "execute_result"
    }
   ],
   "source": [
    "7>10"
   ]
  },
  {
   "cell_type": "code",
   "execution_count": 22,
   "id": "db69e87f-af25-4b0a-b208-139eb466f139",
   "metadata": {},
   "outputs": [
    {
     "data": {
      "text/plain": [
       "False"
      ]
     },
     "execution_count": 22,
     "metadata": {},
     "output_type": "execute_result"
    }
   ],
   "source": [
    "7>5 & 7>10"
   ]
  },
  {
   "cell_type": "code",
   "execution_count": 23,
   "id": "cd7b0777-f3b6-4074-a84f-15fef8f02d62",
   "metadata": {},
   "outputs": [
    {
     "data": {
      "text/plain": [
       "False"
      ]
     },
     "execution_count": 23,
     "metadata": {},
     "output_type": "execute_result"
    }
   ],
   "source": [
    "7>5 | 7>10"
   ]
  },
  {
   "cell_type": "code",
   "execution_count": 24,
   "id": "363406d4-42ab-4857-a2bf-0bee4d489811",
   "metadata": {},
   "outputs": [
    {
     "data": {
      "text/plain": [
       "12"
      ]
     },
     "execution_count": 24,
     "metadata": {},
     "output_type": "execute_result"
    }
   ],
   "source": [
    "5+7"
   ]
  },
  {
   "cell_type": "code",
   "execution_count": 25,
   "id": "b4f94b3b-a441-42de-9383-235a732053e5",
   "metadata": {},
   "outputs": [
    {
     "data": {
      "text/plain": [
       "7"
      ]
     },
     "execution_count": 25,
     "metadata": {},
     "output_type": "execute_result"
    }
   ],
   "source": [
    "10-3"
   ]
  },
  {
   "cell_type": "code",
   "execution_count": 26,
   "id": "08025c4b-332c-45e3-ba46-c3492bdc9d48",
   "metadata": {},
   "outputs": [
    {
     "data": {
      "text/plain": [
       "15"
      ]
     },
     "execution_count": 26,
     "metadata": {},
     "output_type": "execute_result"
    }
   ],
   "source": [
    "5*3"
   ]
  },
  {
   "cell_type": "code",
   "execution_count": 27,
   "id": "32224624-1558-47a9-8590-728bff9f26b7",
   "metadata": {},
   "outputs": [
    {
     "data": {
      "text/plain": [
       "2.5"
      ]
     },
     "execution_count": 27,
     "metadata": {},
     "output_type": "execute_result"
    }
   ],
   "source": [
    "5/2"
   ]
  },
  {
   "cell_type": "code",
   "execution_count": 28,
   "id": "2c4e708d-2228-447e-8031-db3ac8c86aab",
   "metadata": {},
   "outputs": [
    {
     "data": {
      "text/plain": [
       "9"
      ]
     },
     "execution_count": 28,
     "metadata": {},
     "output_type": "execute_result"
    }
   ],
   "source": [
    "3**2"
   ]
  },
  {
   "cell_type": "code",
   "execution_count": 29,
   "id": "32d92c7c-632f-4fdc-bc07-6a94d837f5e4",
   "metadata": {},
   "outputs": [
    {
     "data": {
      "text/plain": [
       "9"
      ]
     },
     "execution_count": 29,
     "metadata": {},
     "output_type": "execute_result"
    }
   ],
   "source": [
    "pow(3,2)"
   ]
  },
  {
   "cell_type": "code",
   "execution_count": 30,
   "id": "36de3068-2a8e-41c2-bc3d-4a5fd482e4c6",
   "metadata": {},
   "outputs": [],
   "source": [
    "alumno1 = [\"Juan\", \"Pérez\", 23]"
   ]
  },
  {
   "cell_type": "code",
   "execution_count": 46,
   "id": "57d317bc-fc9c-4d5c-8594-d5ebf6dfc808",
   "metadata": {},
   "outputs": [],
   "source": [
    "estadistica_g4 = ['Juan', 'Raúl', 'Jimena', 'Alejandra']"
   ]
  },
  {
   "cell_type": "code",
   "execution_count": 47,
   "id": "29962e54-43c1-4ae8-8ecc-213dab04555d",
   "metadata": {},
   "outputs": [
    {
     "data": {
      "text/plain": [
       "['Juan', 'Raúl', 'Jimena', 'Alejandra']"
      ]
     },
     "execution_count": 47,
     "metadata": {},
     "output_type": "execute_result"
    }
   ],
   "source": [
    "estadistica_g4"
   ]
  },
  {
   "cell_type": "code",
   "execution_count": 33,
   "id": "49b2cda2-9de7-4bf1-b81d-15d848216154",
   "metadata": {},
   "outputs": [
    {
     "data": {
      "text/plain": [
       "'Jimena'"
      ]
     },
     "execution_count": 33,
     "metadata": {},
     "output_type": "execute_result"
    }
   ],
   "source": [
    "estadistica_g4[2]"
   ]
  },
  {
   "cell_type": "code",
   "execution_count": null,
   "id": "7943833f-5537-4192-ab95-e3289b6e4761",
   "metadata": {},
   "outputs": [],
   "source": [
    "# se empieza a contar desde 0"
   ]
  },
  {
   "cell_type": "code",
   "execution_count": 34,
   "id": "699e0d1a-fdbe-45c2-8597-5ad66c8d493d",
   "metadata": {},
   "outputs": [
    {
     "data": {
      "text/plain": [
       "'Juan'"
      ]
     },
     "execution_count": 34,
     "metadata": {},
     "output_type": "execute_result"
    }
   ],
   "source": [
    "estadistica_g4[0]"
   ]
  },
  {
   "cell_type": "code",
   "execution_count": 35,
   "id": "bfe15ddf-5e58-41bb-84f7-0fa7c7d5889c",
   "metadata": {},
   "outputs": [
    {
     "data": {
      "text/plain": [
       "('Juan', 'Jimena')"
      ]
     },
     "execution_count": 35,
     "metadata": {},
     "output_type": "execute_result"
    }
   ],
   "source": [
    "estadistica_g4[0], estadistica_g4[2]"
   ]
  },
  {
   "cell_type": "code",
   "execution_count": 48,
   "id": "fee2cb8f-ed9b-4c9a-9de3-85ce95a5ee6c",
   "metadata": {},
   "outputs": [],
   "source": [
    "estadistica_g4.append('Jaime') # agregar elemento a la lista"
   ]
  },
  {
   "cell_type": "code",
   "execution_count": 49,
   "id": "18db5591-3934-4044-afe1-bf0ece22b0aa",
   "metadata": {},
   "outputs": [
    {
     "data": {
      "text/plain": [
       "['Juan', 'Raúl', 'Jimena', 'Alejandra', 'Jaime']"
      ]
     },
     "execution_count": 49,
     "metadata": {},
     "output_type": "execute_result"
    }
   ],
   "source": [
    "estadistica_g4"
   ]
  },
  {
   "cell_type": "code",
   "execution_count": 50,
   "id": "1ab9e396-e350-429d-a218-6c7c7a7da4d3",
   "metadata": {},
   "outputs": [],
   "source": [
    "estadistica_g4.remove('Jimena') # quitar elemento a la lista"
   ]
  },
  {
   "cell_type": "code",
   "execution_count": 51,
   "id": "fc81b88a-6b7b-4411-a2a6-904a3b961582",
   "metadata": {},
   "outputs": [
    {
     "data": {
      "text/plain": [
       "['Juan', 'Raúl', 'Alejandra', 'Jaime']"
      ]
     },
     "execution_count": 51,
     "metadata": {},
     "output_type": "execute_result"
    }
   ],
   "source": [
    "estadistica_g4"
   ]
  }
 ],
 "metadata": {
  "kernelspec": {
   "display_name": "Python 3 (ipykernel)",
   "language": "python",
   "name": "python3"
  },
  "language_info": {
   "codemirror_mode": {
    "name": "ipython",
    "version": 3
   },
   "file_extension": ".py",
   "mimetype": "text/x-python",
   "name": "python",
   "nbconvert_exporter": "python",
   "pygments_lexer": "ipython3",
   "version": "3.9.12"
  }
 },
 "nbformat": 4,
 "nbformat_minor": 5
}
