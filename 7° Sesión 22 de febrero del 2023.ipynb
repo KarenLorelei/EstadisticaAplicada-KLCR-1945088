{
 "cells": [
  {
   "cell_type": "markdown",
   "id": "94947249",
   "metadata": {},
   "source": [
    "# ESTADÍSTICA APLICADA #\n",
    "## PABLO ADRIÁN MEJÍA CASTILLO 1921380 ##\n",
    "### 7° Sesión a 22 de febrero del 2023"
   ]
  },
  {
   "cell_type": "code",
   "execution_count": 1,
   "id": "dd6d8b2c",
   "metadata": {},
   "outputs": [],
   "source": [
    "# Instalar la librería para modelos de supervivencia llamada lifelines"
   ]
  },
  {
   "cell_type": "code",
   "execution_count": 2,
   "id": "98689a32",
   "metadata": {},
   "outputs": [
    {
     "name": "stdout",
     "output_type": "stream",
     "text": [
      "Requirement already satisfied: lifelines in c:\\users\\lenovo\\anaconda3\\lib\\site-packages (0.27.4)\n",
      "Requirement already satisfied: numpy>=1.14.0 in c:\\users\\lenovo\\anaconda3\\lib\\site-packages (from lifelines) (1.21.5)\n",
      "Requirement already satisfied: matplotlib>=3.0 in c:\\users\\lenovo\\anaconda3\\lib\\site-packages (from lifelines) (3.5.1)\n",
      "Requirement already satisfied: formulaic>=0.2.2 in c:\\users\\lenovo\\anaconda3\\lib\\site-packages (from lifelines) (0.5.2)\n",
      "Requirement already satisfied: autograd-gamma>=0.3 in c:\\users\\lenovo\\anaconda3\\lib\\site-packages (from lifelines) (0.5.0)\n",
      "Requirement already satisfied: scipy>=1.2.0 in c:\\users\\lenovo\\anaconda3\\lib\\site-packages (from lifelines) (1.7.3)\n",
      "Requirement already satisfied: pandas>=1.0.0 in c:\\users\\lenovo\\anaconda3\\lib\\site-packages (from lifelines) (1.4.2)\n",
      "Requirement already satisfied: autograd>=1.5 in c:\\users\\lenovo\\anaconda3\\lib\\site-packages (from lifelines) (1.5)\n",
      "Requirement already satisfied: future>=0.15.2 in c:\\users\\lenovo\\anaconda3\\lib\\site-packages (from autograd>=1.5->lifelines) (0.18.2)\n",
      "Requirement already satisfied: astor>=0.8 in c:\\users\\lenovo\\anaconda3\\lib\\site-packages (from formulaic>=0.2.2->lifelines) (0.8.1)\n",
      "Requirement already satisfied: wrapt>=1.0 in c:\\users\\lenovo\\anaconda3\\lib\\site-packages (from formulaic>=0.2.2->lifelines) (1.12.1)\n",
      "Requirement already satisfied: interface-meta>=1.2.0 in c:\\users\\lenovo\\anaconda3\\lib\\site-packages (from formulaic>=0.2.2->lifelines) (1.3.0)\n",
      "Requirement already satisfied: typing-extensions>=4.2.0 in c:\\users\\lenovo\\anaconda3\\lib\\site-packages (from formulaic>=0.2.2->lifelines) (4.5.0)\n",
      "Requirement already satisfied: pillow>=6.2.0 in c:\\users\\lenovo\\anaconda3\\lib\\site-packages (from matplotlib>=3.0->lifelines) (9.0.1)\n",
      "Requirement already satisfied: packaging>=20.0 in c:\\users\\lenovo\\anaconda3\\lib\\site-packages (from matplotlib>=3.0->lifelines) (21.3)\n",
      "Requirement already satisfied: pyparsing>=2.2.1 in c:\\users\\lenovo\\anaconda3\\lib\\site-packages (from matplotlib>=3.0->lifelines) (3.0.4)\n",
      "Requirement already satisfied: python-dateutil>=2.7 in c:\\users\\lenovo\\anaconda3\\lib\\site-packages (from matplotlib>=3.0->lifelines) (2.8.2)\n",
      "Requirement already satisfied: cycler>=0.10 in c:\\users\\lenovo\\anaconda3\\lib\\site-packages (from matplotlib>=3.0->lifelines) (0.11.0)\n",
      "Requirement already satisfied: kiwisolver>=1.0.1 in c:\\users\\lenovo\\anaconda3\\lib\\site-packages (from matplotlib>=3.0->lifelines) (1.3.2)\n",
      "Requirement already satisfied: fonttools>=4.22.0 in c:\\users\\lenovo\\anaconda3\\lib\\site-packages (from matplotlib>=3.0->lifelines) (4.25.0)\n",
      "Requirement already satisfied: pytz>=2020.1 in c:\\users\\lenovo\\anaconda3\\lib\\site-packages (from pandas>=1.0.0->lifelines) (2021.3)\n",
      "Requirement already satisfied: six>=1.5 in c:\\users\\lenovo\\anaconda3\\lib\\site-packages (from python-dateutil>=2.7->matplotlib>=3.0->lifelines) (1.16.0)\n"
     ]
    }
   ],
   "source": [
    "!pip install lifelines "
   ]
  },
  {
   "cell_type": "code",
   "execution_count": 6,
   "id": "80182cc9",
   "metadata": {},
   "outputs": [],
   "source": [
    "# Exponential fitter es la función de supervivencia de una exponencial\n",
    "import numpy as np\n",
    "import pandas as pd\n",
    "import matplotlib.pyplot as plt\n",
    "from lifelines import ExponentialFitter \n",
    "%matplotlib inline\n"
   ]
  },
  {
   "cell_type": "code",
   "execution_count": 7,
   "id": "46cc8918",
   "metadata": {},
   "outputs": [],
   "source": [
    "#Datos\n",
    "dic1 ={'tiempo': [5,8,12,24,32,17,16,17,19,30],'evento':[1,1,1,1,1,1,0,0,0,0]}"
   ]
  },
  {
   "cell_type": "code",
   "execution_count": 8,
   "id": "9f03272b",
   "metadata": {},
   "outputs": [],
   "source": [
    "datos=pd.DataFrame(dic1)"
   ]
  },
  {
   "cell_type": "code",
   "execution_count": 9,
   "id": "90ac9713",
   "metadata": {},
   "outputs": [
    {
     "data": {
      "text/html": [
       "<div>\n",
       "<style scoped>\n",
       "    .dataframe tbody tr th:only-of-type {\n",
       "        vertical-align: middle;\n",
       "    }\n",
       "\n",
       "    .dataframe tbody tr th {\n",
       "        vertical-align: top;\n",
       "    }\n",
       "\n",
       "    .dataframe thead th {\n",
       "        text-align: right;\n",
       "    }\n",
       "</style>\n",
       "<table border=\"1\" class=\"dataframe\">\n",
       "  <thead>\n",
       "    <tr style=\"text-align: right;\">\n",
       "      <th></th>\n",
       "      <th>tiempo</th>\n",
       "      <th>evento</th>\n",
       "    </tr>\n",
       "  </thead>\n",
       "  <tbody>\n",
       "    <tr>\n",
       "      <th>0</th>\n",
       "      <td>5</td>\n",
       "      <td>1</td>\n",
       "    </tr>\n",
       "    <tr>\n",
       "      <th>1</th>\n",
       "      <td>8</td>\n",
       "      <td>1</td>\n",
       "    </tr>\n",
       "    <tr>\n",
       "      <th>2</th>\n",
       "      <td>12</td>\n",
       "      <td>1</td>\n",
       "    </tr>\n",
       "    <tr>\n",
       "      <th>3</th>\n",
       "      <td>24</td>\n",
       "      <td>1</td>\n",
       "    </tr>\n",
       "    <tr>\n",
       "      <th>4</th>\n",
       "      <td>32</td>\n",
       "      <td>1</td>\n",
       "    </tr>\n",
       "    <tr>\n",
       "      <th>5</th>\n",
       "      <td>17</td>\n",
       "      <td>1</td>\n",
       "    </tr>\n",
       "    <tr>\n",
       "      <th>6</th>\n",
       "      <td>16</td>\n",
       "      <td>0</td>\n",
       "    </tr>\n",
       "    <tr>\n",
       "      <th>7</th>\n",
       "      <td>17</td>\n",
       "      <td>0</td>\n",
       "    </tr>\n",
       "    <tr>\n",
       "      <th>8</th>\n",
       "      <td>19</td>\n",
       "      <td>0</td>\n",
       "    </tr>\n",
       "    <tr>\n",
       "      <th>9</th>\n",
       "      <td>30</td>\n",
       "      <td>0</td>\n",
       "    </tr>\n",
       "  </tbody>\n",
       "</table>\n",
       "</div>"
      ],
      "text/plain": [
       "   tiempo  evento\n",
       "0       5       1\n",
       "1       8       1\n",
       "2      12       1\n",
       "3      24       1\n",
       "4      32       1\n",
       "5      17       1\n",
       "6      16       0\n",
       "7      17       0\n",
       "8      19       0\n",
       "9      30       0"
      ]
     },
     "execution_count": 9,
     "metadata": {},
     "output_type": "execute_result"
    }
   ],
   "source": [
    "datos"
   ]
  },
  {
   "cell_type": "markdown",
   "id": "fbfe455d",
   "metadata": {},
   "source": [
    "$\\hat{\\lambda} = \\frac{\\sum\\delta_i}  {\\sum\\t_i}$"
   ]
  },
  {
   "cell_type": "code",
   "execution_count": null,
   "id": "eac0dfa3",
   "metadata": {},
   "outputs": [],
   "source": []
  },
  {
   "cell_type": "code",
   "execution_count": 10,
   "id": "3a2f838e",
   "metadata": {},
   "outputs": [],
   "source": [
    "lambda_exp = datos['evento'].sum() /datos['tiempo'].sum()"
   ]
  },
  {
   "cell_type": "code",
   "execution_count": 11,
   "id": "0556d1e7",
   "metadata": {},
   "outputs": [
    {
     "data": {
      "text/plain": [
       "0.03333333333333333"
      ]
     },
     "execution_count": 11,
     "metadata": {},
     "output_type": "execute_result"
    }
   ],
   "source": [
    "lambda_exp"
   ]
  },
  {
   "cell_type": "code",
   "execution_count": 12,
   "id": "cb53b977",
   "metadata": {},
   "outputs": [],
   "source": [
    "ex1= ExponentialFitter().fit(datos['tiempo'],datos['evento'])"
   ]
  },
  {
   "cell_type": "code",
   "execution_count": 14,
   "id": "3f15d641",
   "metadata": {},
   "outputs": [
    {
     "data": {
      "image/png": "[encoded data removed]",
      "text/plain": [
       "<Figure size 432x288 with 1 Axes>"
      ]
     },
     "metadata": {
      "needs_background": "light"
     },
     "output_type": "display_data"
    }
   ],
   "source": [
    "ex1.plot_hazard(label='funcion de riesgo').legend()\n",
    "plt.ylim(0, 0.2)\n",
    "plt.show ()"
   ]
  },
  {
   "cell_type": "code",
   "execution_count": 15,
   "id": "04a60fa3",
   "metadata": {},
   "outputs": [
    {
     "data": {
      "text/plain": [
       "16    0.586646\n",
       "Name: Exponential_estimate, dtype: float64"
      ]
     },
     "execution_count": 15,
     "metadata": {},
     "output_type": "execute_result"
    }
   ],
   "source": [
    "ex1.survival_function_at_times(16)"
   ]
  },
  {
   "cell_type": "code",
   "execution_count": 18,
   "id": "ff221875",
   "metadata": {},
   "outputs": [
    {
     "data": {
      "image/png": "[encoded data removed]",
      "text/plain": [
       "<Figure size 432x288 with 1 Axes>"
      ]
     },
     "metadata": {
      "needs_background": "light"
     },
     "output_type": "display_data"
    }
   ],
   "source": [
    "ex1.plot_survival_function(label= 'Función de supervivencia');"
   ]
  },
  {
   "cell_type": "code",
   "execution_count": 20,
   "id": "fa57d50e",
   "metadata": {},
   "outputs": [
    {
     "data": {
      "image/png": "[encoded data removed]",
      "text/plain": [
       "<Figure size 432x288 with 1 Axes>"
      ]
     },
     "metadata": {
      "needs_background": "light"
     },
     "output_type": "display_data"
    }
   ],
   "source": [
    "ex1.plot_density(label ='f(t)');"
   ]
  },
  {
   "cell_type": "code",
   "execution_count": 19,
   "id": "c550282d",
   "metadata": {
    "scrolled": true
   },
   "outputs": [
    {
     "data": {
      "image/png": "[encoded data removed]",
      "text/plain": [
       "<Figure size 432x288 with 1 Axes>"
      ]
     },
     "metadata": {
      "needs_background": "light"
     },
     "output_type": "display_data"
    }
   ],
   "source": [
    "    ex1.plot_cumulative_density(label = 'F(t)');"
   ]
  },
  {
   "cell_type": "code",
   "execution_count": 21,
   "id": "007cb3cc",
   "metadata": {},
   "outputs": [
    {
     "data": {
      "text/plain": [
       "20.794415437592868"
      ]
     },
     "execution_count": 21,
     "metadata": {},
     "output_type": "execute_result"
    }
   ],
   "source": [
    "ex1.median_survival_time_"
   ]
  },
  {
   "cell_type": "markdown",
   "id": "58b52486",
   "metadata": {},
   "source": [
    "La mediana significa que el 50% de los individuos recae antes de 20.8 meses. o el 50% de los individuos va a recaer hasta después de este periodo."
   ]
  },
  {
   "cell_type": "code",
   "execution_count": 22,
   "id": "0ead2a26",
   "metadata": {},
   "outputs": [
    {
     "data": {
      "text/html": [
       "<div>\n",
       "<style scoped>\n",
       "    .dataframe tbody tr th:only-of-type {\n",
       "        vertical-align: middle;\n",
       "    }\n",
       "\n",
       "    .dataframe tbody tr th {\n",
       "        vertical-align: top;\n",
       "    }\n",
       "\n",
       "    .dataframe thead th {\n",
       "        text-align: right;\n",
       "    }\n",
       "</style>\n",
       "<table border=\"1\" class=\"dataframe\">\n",
       "  <thead>\n",
       "    <tr style=\"text-align: right;\">\n",
       "      <th></th>\n",
       "      <th>coef</th>\n",
       "      <th>se(coef)</th>\n",
       "      <th>coef lower 95%</th>\n",
       "      <th>coef upper 95%</th>\n",
       "      <th>cmp to</th>\n",
       "      <th>z</th>\n",
       "      <th>p</th>\n",
       "      <th>-log2(p)</th>\n",
       "    </tr>\n",
       "  </thead>\n",
       "  <tbody>\n",
       "    <tr>\n",
       "      <th>lambda_</th>\n",
       "      <td>30.0</td>\n",
       "      <td>12.247449</td>\n",
       "      <td>5.995442</td>\n",
       "      <td>54.004558</td>\n",
       "      <td>0.0</td>\n",
       "      <td>2.44949</td>\n",
       "      <td>0.014306</td>\n",
       "      <td>6.127248</td>\n",
       "    </tr>\n",
       "  </tbody>\n",
       "</table>\n",
       "</div>"
      ],
      "text/plain": [
       "         coef   se(coef)  coef lower 95%  ...        z         p  -log2(p)\n",
       "lambda_  30.0  12.247449        5.995442  ...  2.44949  0.014306  6.127248\n",
       "\n",
       "[1 rows x 8 columns]"
      ]
     },
     "execution_count": 22,
     "metadata": {},
     "output_type": "execute_result"
    }
   ],
   "source": [
    "ex1.summary"
   ]
  },
  {
   "cell_type": "code",
   "execution_count": 25,
   "id": "0ca3542a",
   "metadata": {},
   "outputs": [
    {
     "data": {
      "text/plain": [
       "0.03333333329999985"
      ]
     },
     "execution_count": 25,
     "metadata": {},
     "output_type": "execute_result"
    }
   ],
   "source": [
    "1/ex1.lambda_"
   ]
  },
  {
   "cell_type": "code",
   "execution_count": 27,
   "id": "f814ebf0",
   "metadata": {},
   "outputs": [
    {
     "data": {
      "text/html": [
       "<div>\n",
       "<style scoped>\n",
       "    .dataframe tbody tr th:only-of-type {\n",
       "        vertical-align: middle;\n",
       "    }\n",
       "\n",
       "    .dataframe tbody tr th {\n",
       "        vertical-align: top;\n",
       "    }\n",
       "\n",
       "    .dataframe thead th {\n",
       "        text-align: right;\n",
       "    }\n",
       "</style>\n",
       "<table border=\"1\" class=\"dataframe\">\n",
       "  <thead>\n",
       "    <tr style=\"text-align: right;\">\n",
       "      <th></th>\n",
       "      <th>Exponential_estimate</th>\n",
       "    </tr>\n",
       "  </thead>\n",
       "  <tbody>\n",
       "    <tr>\n",
       "      <th>5.0</th>\n",
       "      <td>0.033333</td>\n",
       "    </tr>\n",
       "    <tr>\n",
       "      <th>8.0</th>\n",
       "      <td>0.033333</td>\n",
       "    </tr>\n",
       "    <tr>\n",
       "      <th>11.0</th>\n",
       "      <td>0.033333</td>\n",
       "    </tr>\n",
       "    <tr>\n",
       "      <th>14.0</th>\n",
       "      <td>0.033333</td>\n",
       "    </tr>\n",
       "    <tr>\n",
       "      <th>17.0</th>\n",
       "      <td>0.033333</td>\n",
       "    </tr>\n",
       "    <tr>\n",
       "      <th>20.0</th>\n",
       "      <td>0.033333</td>\n",
       "    </tr>\n",
       "    <tr>\n",
       "      <th>23.0</th>\n",
       "      <td>0.033333</td>\n",
       "    </tr>\n",
       "    <tr>\n",
       "      <th>26.0</th>\n",
       "      <td>0.033333</td>\n",
       "    </tr>\n",
       "    <tr>\n",
       "      <th>29.0</th>\n",
       "      <td>0.033333</td>\n",
       "    </tr>\n",
       "    <tr>\n",
       "      <th>32.0</th>\n",
       "      <td>0.033333</td>\n",
       "    </tr>\n",
       "  </tbody>\n",
       "</table>\n",
       "</div>"
      ],
      "text/plain": [
       "      Exponential_estimate\n",
       "5.0               0.033333\n",
       "8.0               0.033333\n",
       "11.0              0.033333\n",
       "14.0              0.033333\n",
       "17.0              0.033333\n",
       "20.0              0.033333\n",
       "23.0              0.033333\n",
       "26.0              0.033333\n",
       "29.0              0.033333\n",
       "32.0              0.033333"
      ]
     },
     "execution_count": 27,
     "metadata": {},
     "output_type": "execute_result"
    }
   ],
   "source": [
    "#riesgo estimado para t\n",
    "ex1.hazard_"
   ]
  }
 ],
 "metadata": {
  "kernelspec": {
   "display_name": "Python 3 (ipykernel)",
   "language": "python",
   "name": "python3"
  },
  "language_info": {
   "codemirror_mode": {
    "name": "ipython",
    "version": 3
   },
   "file_extension": ".py",
   "mimetype": "text/x-python",
   "name": "python",
   "nbconvert_exporter": "python",
   "pygments_lexer": "ipython3",
   "version": "3.9.12"
  }
 },
 "nbformat": 4,
 "nbformat_minor": 5
}
